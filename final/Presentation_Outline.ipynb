{
 "cells": [
  {
   "cell_type": "markdown",
   "metadata": {},
   "source": [
    "# Introduction (1 Minute) Khamanna (ppt)\n",
    "# Data Cleaning Presentation (2 Minutes) Khamanna  (ppt)\n",
    "# Feature Selection Presentation (2 Minutes) Ariel (ppt)\n",
    "# 2 Features Evaluation (3 Minutes) Ariel (ppt)\n",
    "# 2 Features Evaluation (3 Minutes) Khamanna (eval & ppt)\n",
    "# 2 Features Evaluation (3 Minutes) Ava (eval & ppt)\n",
    "# 2 Features Evaluation (3 Minutes) Shay (eval & ppt)\n",
    "# Conclusion (1 Minute) All (ppt)"
   ]
  },
  {
   "cell_type": "markdown",
   "metadata": {},
   "source": [
    "# Introduction"
   ]
  },
  {
   "cell_type": "markdown",
   "metadata": {},
   "source": [
    "## Team Members\n",
    "## Role we are playing"
   ]
  },
  {
   "cell_type": "markdown",
   "metadata": {},
   "source": [
    "\n",
    "## Explaning what we did"
   ]
  },
  {
   "cell_type": "markdown",
   "metadata": {},
   "source": [
    "### Exploratory Data Analysis"
   ]
  },
  {
   "cell_type": "markdown",
   "metadata": {},
   "source": [
    "### Grouping variables by type\n",
    "### Remove unecessary variables\n",
    "### Remove features with less than 10% of observations\n",
    "### Remove nominal variables with less than 10% of observations\n",
    "### Feature Generation\n",
    "#### Combining Basement Number of Bathrooms\n",
    "#### Cost per square-foot\n",
    "### Dummification of Nominal Variables\n",
    "### Encoding of Ordinal Variables\n",
    "### Multicollinearity\n",
    "### Normality\n",
    "### Feature Selection (Lasso)\n",
    "### Descriptive Model: Multiple Linear Regression Model\n"
   ]
  },
  {
   "cell_type": "markdown",
   "metadata": {},
   "source": [
    "## Presentation for Client"
   ]
  },
  {
   "cell_type": "markdown",
   "metadata": {},
   "source": [
    "### Make A Case For The importance Cosmetic Features"
   ]
  },
  {
   "cell_type": "markdown",
   "metadata": {},
   "source": [
    "### Each Member of the Team will present 2 or 3 features\n"
   ]
  },
  {
   "cell_type": "markdown",
   "metadata": {},
   "source": [
    "## Conclusion"
   ]
  }
 ],
 "metadata": {
  "hide_input": false,
  "kernelspec": {
   "display_name": "Python 3",
   "language": "python",
   "name": "python3"
  },
  "language_info": {
   "codemirror_mode": {
    "name": "ipython",
    "version": 3
   },
   "file_extension": ".py",
   "mimetype": "text/x-python",
   "name": "python",
   "nbconvert_exporter": "python",
   "pygments_lexer": "ipython3",
   "version": "3.8.3"
  },
  "latex_envs": {
   "LaTeX_envs_menu_present": true,
   "autoclose": false,
   "autocomplete": true,
   "bibliofile": "biblio.bib",
   "cite_by": "apalike",
   "current_citInitial": 1,
   "eqLabelWithNumbers": true,
   "eqNumInitial": 1,
   "hotkeys": {
    "equation": "Ctrl-E",
    "itemize": "Ctrl-I"
   },
   "labels_anchors": false,
   "latex_user_defs": false,
   "report_style_numbering": false,
   "user_envs_cfg": false
  },
  "toc": {
   "base_numbering": 1,
   "nav_menu": {},
   "number_sections": true,
   "sideBar": true,
   "skip_h1_title": false,
   "title_cell": "Table of Contents",
   "title_sidebar": "Contents",
   "toc_cell": false,
   "toc_position": {},
   "toc_section_display": true,
   "toc_window_display": false
  }
 },
 "nbformat": 4,
 "nbformat_minor": 4
}
