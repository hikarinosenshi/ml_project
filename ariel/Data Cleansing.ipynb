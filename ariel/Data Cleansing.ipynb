{
 "cells": [
  {
   "cell_type": "markdown",
   "metadata": {},
   "source": [
    "# Data Cleansing of the Ames Housing Data\n",
    "\n",
    "Ames, Iowa is the college town of **Iowa State University**. The Ames housing dataset consists of about $2500$ house sale records between $2006-2010$. Detailed information about the house attributes, along with the sale prices, is recorded in the dataset.\n",
    "\n",
    "A subset of the **Ames** dataset is hosted on [**Kaggle**](https://www.kaggle.com/c/house-prices-advanced-regression-techniques/data) as an entry-level regression competition. You may visit their site for some information on the meanings of its data columns (the data dictionary).\n",
    "\n",
    "<hr style=\"height:1px;border:none;color:#333;background-color:#333;\" />"
   ]
  },
  {
   "cell_type": "markdown",
   "metadata": {},
   "source": [
    "## Table of Contents\n",
    "* [1.1 Environment Setup](#env-setup)\n",
    "    * [Import Modules](#imports)\n",
    "    * [Display Settings](#display)\n",
    "    * [Load House Price Data](#readcsv)\n",
    "<br><br>\n",
    "* [1.2 Data Cleaning](#eda)\n",
    "    * [1.2.1 Remove Duplicate Rows](#dup-rows)\n",
    "    * [1.2.2 Remove Irrelevant Features](#irrelevant)\n",
    "    * [1.2.3 List of Variables with Missing Values](#listnan)    \n",
    "    * [1.2.4 Impute Missing LotFrontage Values](#lotfrontage)\n",
    "    * [1.2.5 Impute Missing Basement related Values](#basement)\n",
    "    * [1.2.6 Impute Missing GarageArea and GarageCars Values](#garage)\n",
    "    * [1.2.7 Impute Missing Electrical Values](#electrical)\n",
    "    * [1.2.8 Impute Missing MasVnrType and MasVnrArea Values](#vnr)\n",
    "    * [1.2.9 Data Consistency: BsmtExposure (Basement Exposure)](#bsmtexposure)\n",
    "    * [1.2.10 Data Consistency: Garage related variables](#garconsistency)\n",
    "    * [1.2.11 Data Consistency: YearRemodAdd](#yraconsistency)\n",
    "<br><br>\n",
    "* [1.3 Write cleaned dataset to csv file](#writecsv)"
   ]
  },
  {
   "cell_type": "markdown",
   "metadata": {},
   "source": [
    "<br><br>\n",
    "<hr style=\"height:1px;border:none;color:#333;background-color:#333;\" />\n",
    "\n",
    "### 1.1 Environment Setup<a class=\"anchor\" id=\"env-setup\"></a>"
   ]
  },
  {
   "cell_type": "markdown",
   "metadata": {},
   "source": [
    "#### 1.1.1 Import Modules<a class=\"anchor\" id=\"imports\"></a>"
   ]
  },
  {
   "cell_type": "code",
   "execution_count": 1,
   "metadata": {},
   "outputs": [],
   "source": [
    "# Import modules\n",
    "import pandas as pd\n",
    "import numpy as np\n",
    "import seaborn as sns\n",
    "from sklearn.impute import KNNImputer\n",
    "import math"
   ]
  },
  {
   "cell_type": "markdown",
   "metadata": {},
   "source": [
    "#### 1.1.2 Display Settings<a class=\"anchor\" id=\"display\"></a>"
   ]
  },
  {
   "cell_type": "code",
   "execution_count": 2,
   "metadata": {},
   "outputs": [],
   "source": [
    "pd.set_option('display.max_columns', None) # display all the columns of a dataframe\n",
    "pd.set_option('display.max_rows', 100)     # display 100 rows of a dataframe"
   ]
  },
  {
   "cell_type": "markdown",
   "metadata": {},
   "source": [
    "#### 1.1.3 Load House Price Data<a class=\"anchor\" id=\"readcsv\"></a>"
   ]
  },
  {
   "cell_type": "code",
   "execution_count": 3,
   "metadata": {},
   "outputs": [],
   "source": [
    "# load the housing price data\n",
    "dataset = pd.read_csv('../data/Ames_Housing_Price_Data.csv', index_col=0)"
   ]
  },
  {
   "cell_type": "markdown",
   "metadata": {},
   "source": [
    "<br><br>\n",
    "<hr style=\"height:1px;border:none;color:#333;background-color:#333;\" />\n",
    "\n",
    "### 1.2 Eploratory Data Analysis<a class=\"anchor\" id=\"eda\"></a>"
   ]
  },
  {
   "cell_type": "markdown",
   "metadata": {},
   "source": [
    "#### 1.2.1 Remove Duplicate Rows<a class=\"anchor\" id=\"dup-rows\"></a>"
   ]
  },
  {
   "cell_type": "code",
   "execution_count": 4,
   "metadata": {},
   "outputs": [
    {
     "data": {
      "text/html": [
       "<div>\n",
       "<style scoped>\n",
       "    .dataframe tbody tr th:only-of-type {\n",
       "        vertical-align: middle;\n",
       "    }\n",
       "\n",
       "    .dataframe tbody tr th {\n",
       "        vertical-align: top;\n",
       "    }\n",
       "\n",
       "    .dataframe thead th {\n",
       "        text-align: right;\n",
       "    }\n",
       "</style>\n",
       "<table border=\"1\" class=\"dataframe\">\n",
       "  <thead>\n",
       "    <tr style=\"text-align: right;\">\n",
       "      <th></th>\n",
       "      <th>PID</th>\n",
       "      <th>GrLivArea</th>\n",
       "      <th>SalePrice</th>\n",
       "      <th>MSSubClass</th>\n",
       "      <th>MSZoning</th>\n",
       "      <th>LotFrontage</th>\n",
       "      <th>LotArea</th>\n",
       "      <th>Street</th>\n",
       "      <th>Alley</th>\n",
       "      <th>LotShape</th>\n",
       "      <th>LandContour</th>\n",
       "      <th>Utilities</th>\n",
       "      <th>LotConfig</th>\n",
       "      <th>LandSlope</th>\n",
       "      <th>Neighborhood</th>\n",
       "      <th>Condition1</th>\n",
       "      <th>Condition2</th>\n",
       "      <th>BldgType</th>\n",
       "      <th>HouseStyle</th>\n",
       "      <th>OverallQual</th>\n",
       "      <th>OverallCond</th>\n",
       "      <th>YearBuilt</th>\n",
       "      <th>YearRemodAdd</th>\n",
       "      <th>RoofStyle</th>\n",
       "      <th>RoofMatl</th>\n",
       "      <th>Exterior1st</th>\n",
       "      <th>Exterior2nd</th>\n",
       "      <th>MasVnrType</th>\n",
       "      <th>MasVnrArea</th>\n",
       "      <th>ExterQual</th>\n",
       "      <th>ExterCond</th>\n",
       "      <th>Foundation</th>\n",
       "      <th>BsmtQual</th>\n",
       "      <th>BsmtCond</th>\n",
       "      <th>BsmtExposure</th>\n",
       "      <th>BsmtFinType1</th>\n",
       "      <th>BsmtFinSF1</th>\n",
       "      <th>BsmtFinType2</th>\n",
       "      <th>BsmtFinSF2</th>\n",
       "      <th>BsmtUnfSF</th>\n",
       "      <th>TotalBsmtSF</th>\n",
       "      <th>Heating</th>\n",
       "      <th>HeatingQC</th>\n",
       "      <th>CentralAir</th>\n",
       "      <th>Electrical</th>\n",
       "      <th>1stFlrSF</th>\n",
       "      <th>2ndFlrSF</th>\n",
       "      <th>LowQualFinSF</th>\n",
       "      <th>BsmtFullBath</th>\n",
       "      <th>BsmtHalfBath</th>\n",
       "      <th>FullBath</th>\n",
       "      <th>HalfBath</th>\n",
       "      <th>BedroomAbvGr</th>\n",
       "      <th>KitchenAbvGr</th>\n",
       "      <th>KitchenQual</th>\n",
       "      <th>TotRmsAbvGrd</th>\n",
       "      <th>Functional</th>\n",
       "      <th>Fireplaces</th>\n",
       "      <th>FireplaceQu</th>\n",
       "      <th>GarageType</th>\n",
       "      <th>GarageYrBlt</th>\n",
       "      <th>GarageFinish</th>\n",
       "      <th>GarageCars</th>\n",
       "      <th>GarageArea</th>\n",
       "      <th>GarageQual</th>\n",
       "      <th>GarageCond</th>\n",
       "      <th>PavedDrive</th>\n",
       "      <th>WoodDeckSF</th>\n",
       "      <th>OpenPorchSF</th>\n",
       "      <th>EnclosedPorch</th>\n",
       "      <th>3SsnPorch</th>\n",
       "      <th>ScreenPorch</th>\n",
       "      <th>PoolArea</th>\n",
       "      <th>PoolQC</th>\n",
       "      <th>Fence</th>\n",
       "      <th>MiscFeature</th>\n",
       "      <th>MiscVal</th>\n",
       "      <th>MoSold</th>\n",
       "      <th>YrSold</th>\n",
       "      <th>SaleType</th>\n",
       "      <th>SaleCondition</th>\n",
       "    </tr>\n",
       "  </thead>\n",
       "  <tbody>\n",
       "    <tr>\n",
       "      <th>1</th>\n",
       "      <td>909276070</td>\n",
       "      <td>1717</td>\n",
       "      <td>194000</td>\n",
       "      <td>50</td>\n",
       "      <td>RL</td>\n",
       "      <td>80.0</td>\n",
       "      <td>12400</td>\n",
       "      <td>Pave</td>\n",
       "      <td>NaN</td>\n",
       "      <td>Reg</td>\n",
       "      <td>HLS</td>\n",
       "      <td>AllPub</td>\n",
       "      <td>Inside</td>\n",
       "      <td>Mod</td>\n",
       "      <td>Crawfor</td>\n",
       "      <td>Norm</td>\n",
       "      <td>Norm</td>\n",
       "      <td>1Fam</td>\n",
       "      <td>1.5Fin</td>\n",
       "      <td>5</td>\n",
       "      <td>6</td>\n",
       "      <td>1940</td>\n",
       "      <td>1950</td>\n",
       "      <td>Gable</td>\n",
       "      <td>CompShg</td>\n",
       "      <td>Wd Sdng</td>\n",
       "      <td>Wd Sdng</td>\n",
       "      <td>None</td>\n",
       "      <td>0.0</td>\n",
       "      <td>TA</td>\n",
       "      <td>TA</td>\n",
       "      <td>CBlock</td>\n",
       "      <td>Gd</td>\n",
       "      <td>TA</td>\n",
       "      <td>Mn</td>\n",
       "      <td>BLQ</td>\n",
       "      <td>602.0</td>\n",
       "      <td>Unf</td>\n",
       "      <td>0.0</td>\n",
       "      <td>299.0</td>\n",
       "      <td>901.0</td>\n",
       "      <td>GasA</td>\n",
       "      <td>TA</td>\n",
       "      <td>Y</td>\n",
       "      <td>SBrkr</td>\n",
       "      <td>1125</td>\n",
       "      <td>592</td>\n",
       "      <td>0</td>\n",
       "      <td>0.0</td>\n",
       "      <td>0.0</td>\n",
       "      <td>1</td>\n",
       "      <td>1</td>\n",
       "      <td>2</td>\n",
       "      <td>1</td>\n",
       "      <td>TA</td>\n",
       "      <td>7</td>\n",
       "      <td>Typ</td>\n",
       "      <td>1</td>\n",
       "      <td>Gd</td>\n",
       "      <td>Attchd</td>\n",
       "      <td>1940.0</td>\n",
       "      <td>Unf</td>\n",
       "      <td>1.0</td>\n",
       "      <td>410.0</td>\n",
       "      <td>TA</td>\n",
       "      <td>TA</td>\n",
       "      <td>Y</td>\n",
       "      <td>0</td>\n",
       "      <td>0</td>\n",
       "      <td>0</td>\n",
       "      <td>0</td>\n",
       "      <td>113</td>\n",
       "      <td>0</td>\n",
       "      <td>NaN</td>\n",
       "      <td>NaN</td>\n",
       "      <td>NaN</td>\n",
       "      <td>0</td>\n",
       "      <td>2</td>\n",
       "      <td>2006</td>\n",
       "      <td>WD</td>\n",
       "      <td>Normal</td>\n",
       "    </tr>\n",
       "  </tbody>\n",
       "</table>\n",
       "</div>"
      ],
      "text/plain": [
       "         PID  GrLivArea  SalePrice  MSSubClass MSZoning  LotFrontage  LotArea  \\\n",
       "1  909276070       1717     194000          50       RL         80.0    12400   \n",
       "\n",
       "  Street Alley LotShape LandContour Utilities LotConfig LandSlope  \\\n",
       "1   Pave   NaN      Reg         HLS    AllPub    Inside       Mod   \n",
       "\n",
       "  Neighborhood Condition1 Condition2 BldgType HouseStyle  OverallQual  \\\n",
       "1      Crawfor       Norm       Norm     1Fam     1.5Fin            5   \n",
       "\n",
       "   OverallCond  YearBuilt  YearRemodAdd RoofStyle RoofMatl Exterior1st  \\\n",
       "1            6       1940          1950     Gable  CompShg     Wd Sdng   \n",
       "\n",
       "  Exterior2nd MasVnrType  MasVnrArea ExterQual ExterCond Foundation BsmtQual  \\\n",
       "1     Wd Sdng       None         0.0        TA        TA     CBlock       Gd   \n",
       "\n",
       "  BsmtCond BsmtExposure BsmtFinType1  BsmtFinSF1 BsmtFinType2  BsmtFinSF2  \\\n",
       "1       TA           Mn          BLQ       602.0          Unf         0.0   \n",
       "\n",
       "   BsmtUnfSF  TotalBsmtSF Heating HeatingQC CentralAir Electrical  1stFlrSF  \\\n",
       "1      299.0        901.0    GasA        TA          Y      SBrkr      1125   \n",
       "\n",
       "   2ndFlrSF  LowQualFinSF  BsmtFullBath  BsmtHalfBath  FullBath  HalfBath  \\\n",
       "1       592             0           0.0           0.0         1         1   \n",
       "\n",
       "   BedroomAbvGr  KitchenAbvGr KitchenQual  TotRmsAbvGrd Functional  \\\n",
       "1             2             1          TA             7        Typ   \n",
       "\n",
       "   Fireplaces FireplaceQu GarageType  GarageYrBlt GarageFinish  GarageCars  \\\n",
       "1           1          Gd     Attchd       1940.0          Unf         1.0   \n",
       "\n",
       "   GarageArea GarageQual GarageCond PavedDrive  WoodDeckSF  OpenPorchSF  \\\n",
       "1       410.0         TA         TA          Y           0            0   \n",
       "\n",
       "   EnclosedPorch  3SsnPorch  ScreenPorch  PoolArea PoolQC Fence MiscFeature  \\\n",
       "1              0          0          113         0    NaN   NaN         NaN   \n",
       "\n",
       "   MiscVal  MoSold  YrSold SaleType SaleCondition  \n",
       "1        0       2    2006      WD         Normal  "
      ]
     },
     "execution_count": 4,
     "metadata": {},
     "output_type": "execute_result"
    }
   ],
   "source": [
    "dataset[dataset.duplicated()]"
   ]
  },
  {
   "cell_type": "code",
   "execution_count": 5,
   "metadata": {},
   "outputs": [],
   "source": [
    "dataset.drop_duplicates(inplace=True) # duplicate row removed"
   ]
  },
  {
   "cell_type": "code",
   "execution_count": 6,
   "metadata": {},
   "outputs": [],
   "source": [
    "# Reset index (since one row was removed and the original index in the file does not have unique values)\n",
    "dataset.reset_index(drop=True, inplace=True)"
   ]
  },
  {
   "cell_type": "markdown",
   "metadata": {},
   "source": [
    "#### 1.2.2 Remove Irrelevant observations<a class=\"anchor\" id=\"irrelevant\"></a>"
   ]
  },
  {
   "cell_type": "code",
   "execution_count": 7,
   "metadata": {},
   "outputs": [],
   "source": [
    "# PID removed since it is just an identifier for each row\n",
    "dataset.drop('PID',axis=1, inplace=True)"
   ]
  },
  {
   "cell_type": "markdown",
   "metadata": {},
   "source": [
    "#### 1.2.3 List of Variables with Missing Values<a class=\"anchor\" id=\"listnan\"></a>"
   ]
  },
  {
   "cell_type": "code",
   "execution_count": 8,
   "metadata": {},
   "outputs": [
    {
     "name": "stdout",
     "output_type": "stream",
     "text": [
      "<class 'pandas.core.frame.DataFrame'>\n",
      "RangeIndex: 2579 entries, 0 to 2578\n",
      "Data columns (total 80 columns):\n",
      " #   Column         Non-Null Count  Dtype  \n",
      "---  ------         --------------  -----  \n",
      " 0   GrLivArea      2579 non-null   int64  \n",
      " 1   SalePrice      2579 non-null   int64  \n",
      " 2   MSSubClass     2579 non-null   int64  \n",
      " 3   MSZoning       2579 non-null   object \n",
      " 4   LotFrontage    2117 non-null   float64\n",
      " 5   LotArea        2579 non-null   int64  \n",
      " 6   Street         2579 non-null   object \n",
      " 7   Alley          168 non-null    object \n",
      " 8   LotShape       2579 non-null   object \n",
      " 9   LandContour    2579 non-null   object \n",
      " 10  Utilities      2579 non-null   object \n",
      " 11  LotConfig      2579 non-null   object \n",
      " 12  LandSlope      2579 non-null   object \n",
      " 13  Neighborhood   2579 non-null   object \n",
      " 14  Condition1     2579 non-null   object \n",
      " 15  Condition2     2579 non-null   object \n",
      " 16  BldgType       2579 non-null   object \n",
      " 17  HouseStyle     2579 non-null   object \n",
      " 18  OverallQual    2579 non-null   int64  \n",
      " 19  OverallCond    2579 non-null   int64  \n",
      " 20  YearBuilt      2579 non-null   int64  \n",
      " 21  YearRemodAdd   2579 non-null   int64  \n",
      " 22  RoofStyle      2579 non-null   object \n",
      " 23  RoofMatl       2579 non-null   object \n",
      " 24  Exterior1st    2579 non-null   object \n",
      " 25  Exterior2nd    2579 non-null   object \n",
      " 26  MasVnrType     2565 non-null   object \n",
      " 27  MasVnrArea     2565 non-null   float64\n",
      " 28  ExterQual      2579 non-null   object \n",
      " 29  ExterCond      2579 non-null   object \n",
      " 30  Foundation     2579 non-null   object \n",
      " 31  BsmtQual       2510 non-null   object \n",
      " 32  BsmtCond       2510 non-null   object \n",
      " 33  BsmtExposure   2508 non-null   object \n",
      " 34  BsmtFinType1   2510 non-null   object \n",
      " 35  BsmtFinSF1     2578 non-null   float64\n",
      " 36  BsmtFinType2   2509 non-null   object \n",
      " 37  BsmtFinSF2     2578 non-null   float64\n",
      " 38  BsmtUnfSF      2578 non-null   float64\n",
      " 39  TotalBsmtSF    2578 non-null   float64\n",
      " 40  Heating        2579 non-null   object \n",
      " 41  HeatingQC      2579 non-null   object \n",
      " 42  CentralAir     2579 non-null   object \n",
      " 43  Electrical     2578 non-null   object \n",
      " 44  1stFlrSF       2579 non-null   int64  \n",
      " 45  2ndFlrSF       2579 non-null   int64  \n",
      " 46  LowQualFinSF   2579 non-null   int64  \n",
      " 47  BsmtFullBath   2577 non-null   float64\n",
      " 48  BsmtHalfBath   2577 non-null   float64\n",
      " 49  FullBath       2579 non-null   int64  \n",
      " 50  HalfBath       2579 non-null   int64  \n",
      " 51  BedroomAbvGr   2579 non-null   int64  \n",
      " 52  KitchenAbvGr   2579 non-null   int64  \n",
      " 53  KitchenQual    2579 non-null   object \n",
      " 54  TotRmsAbvGrd   2579 non-null   int64  \n",
      " 55  Functional     2579 non-null   object \n",
      " 56  Fireplaces     2579 non-null   int64  \n",
      " 57  FireplaceQu    1338 non-null   object \n",
      " 58  GarageType     2452 non-null   object \n",
      " 59  GarageYrBlt    2450 non-null   float64\n",
      " 60  GarageFinish   2450 non-null   object \n",
      " 61  GarageCars     2578 non-null   float64\n",
      " 62  GarageArea     2578 non-null   float64\n",
      " 63  GarageQual     2450 non-null   object \n",
      " 64  GarageCond     2450 non-null   object \n",
      " 65  PavedDrive     2579 non-null   object \n",
      " 66  WoodDeckSF     2579 non-null   int64  \n",
      " 67  OpenPorchSF    2579 non-null   int64  \n",
      " 68  EnclosedPorch  2579 non-null   int64  \n",
      " 69  3SsnPorch      2579 non-null   int64  \n",
      " 70  ScreenPorch    2579 non-null   int64  \n",
      " 71  PoolArea       2579 non-null   int64  \n",
      " 72  PoolQC         9 non-null      object \n",
      " 73  Fence          525 non-null    object \n",
      " 74  MiscFeature    97 non-null     object \n",
      " 75  MiscVal        2579 non-null   int64  \n",
      " 76  MoSold         2579 non-null   int64  \n",
      " 77  YrSold         2579 non-null   int64  \n",
      " 78  SaleType       2579 non-null   object \n",
      " 79  SaleCondition  2579 non-null   object \n",
      "dtypes: float64(11), int64(26), object(43)\n",
      "memory usage: 1.6+ MB\n"
     ]
    }
   ],
   "source": [
    "dataset.info()"
   ]
  },
  {
   "cell_type": "markdown",
   "metadata": {},
   "source": [
    "#### 1.2.4 Impute Missing LotFrontage Values<a class=\"anchor\" id=\"lotfrontage\"></a>"
   ]
  },
  {
   "cell_type": "code",
   "execution_count": 9,
   "metadata": {},
   "outputs": [],
   "source": [
    "# Use Knn Imputation for Missing Values\n",
    "# Variable = LotFrontage\n",
    "imputer = KNNImputer(n_neighbors=round(math.sqrt(len(dataset)))) # k -> square root of the number of observations\n",
    "imputed = imputer.fit_transform(dataset.select_dtypes(include='number')) # calculate values with limited columns\n",
    "dataset_imputed = pd.DataFrame(imputed, columns=dataset.select_dtypes(include='number').columns) # impute dataset"
   ]
  },
  {
   "cell_type": "code",
   "execution_count": 10,
   "metadata": {},
   "outputs": [],
   "source": [
    "dataset_imputed['LotFrontage'] = round(dataset_imputed['LotFrontage']) # round values to match existing values"
   ]
  },
  {
   "cell_type": "code",
   "execution_count": 11,
   "metadata": {},
   "outputs": [
    {
     "data": {
      "text/plain": [
       "<matplotlib.axes._subplots.AxesSubplot at 0x7fa09ea1cdf0>"
      ]
     },
     "execution_count": 11,
     "metadata": {},
     "output_type": "execute_result"
    },
    {
     "data": {
      "image/png": "[encoded data removed]",
      "text/plain": [
       "<Figure size 432x288 with 1 Axes>"
      ]
     },
     "metadata": {
      "needs_background": "light"
     },
     "output_type": "display_data"
    }
   ],
   "source": [
    "# confirm the distribution of 'LotFrontage' did not change significantly\n",
    "sns.distplot(dataset['LotFrontage'], hist=False)\n",
    "sns.distplot(dataset_imputed['LotFrontage'], hist=False)"
   ]
  },
  {
   "cell_type": "code",
   "execution_count": 12,
   "metadata": {},
   "outputs": [],
   "source": [
    "# Add imputed values to original dataset\n",
    "dataset['LotFrontage'] = dataset_imputed['LotFrontage']"
   ]
  },
  {
   "cell_type": "markdown",
   "metadata": {},
   "source": [
    "#### 1.2.5 Impute Missing Basement related Values<a class=\"anchor\" id=\"basement\"></a>"
   ]
  },
  {
   "cell_type": "code",
   "execution_count": 13,
   "metadata": {},
   "outputs": [],
   "source": [
    "# After researching all the Bsm columns, concluded it was best\n",
    "# to replace NaN values with zeros in the following columns\n",
    "dataset['TotalBsmtSF'].fillna(0, inplace=True)\n",
    "dataset['BsmtHalfBath'].fillna(0, inplace=True)\n",
    "dataset['BsmtFullBath'].fillna(0, inplace=True)\n",
    "dataset['BsmtFinSF1'].fillna(0, inplace=True)\n",
    "dataset['BsmtFinSF2'].fillna(0, inplace=True)\n",
    "dataset['BsmtUnfSF'].fillna(0, inplace=True)"
   ]
  },
  {
   "cell_type": "markdown",
   "metadata": {},
   "source": [
    "#### 1.2.6 Impute Missing GarageArea and GarageCars Values<a class=\"anchor\" id=\"garage\"></a>"
   ]
  },
  {
   "cell_type": "code",
   "execution_count": 14,
   "metadata": {},
   "outputs": [
    {
     "data": {
      "text/html": [
       "<div>\n",
       "<style scoped>\n",
       "    .dataframe tbody tr th:only-of-type {\n",
       "        vertical-align: middle;\n",
       "    }\n",
       "\n",
       "    .dataframe tbody tr th {\n",
       "        vertical-align: top;\n",
       "    }\n",
       "\n",
       "    .dataframe thead th {\n",
       "        text-align: right;\n",
       "    }\n",
       "</style>\n",
       "<table border=\"1\" class=\"dataframe\">\n",
       "  <thead>\n",
       "    <tr style=\"text-align: right;\">\n",
       "      <th></th>\n",
       "      <th>GarageType</th>\n",
       "      <th>GarageYrBlt</th>\n",
       "      <th>GarageFinish</th>\n",
       "      <th>GarageCars</th>\n",
       "      <th>GarageArea</th>\n",
       "      <th>GarageQual</th>\n",
       "      <th>GarageCond</th>\n",
       "    </tr>\n",
       "  </thead>\n",
       "  <tbody>\n",
       "    <tr>\n",
       "      <th>433</th>\n",
       "      <td>Detchd</td>\n",
       "      <td>NaN</td>\n",
       "      <td>NaN</td>\n",
       "      <td>NaN</td>\n",
       "      <td>NaN</td>\n",
       "      <td>NaN</td>\n",
       "      <td>NaN</td>\n",
       "    </tr>\n",
       "  </tbody>\n",
       "</table>\n",
       "</div>"
      ],
      "text/plain": [
       "    GarageType  GarageYrBlt GarageFinish  GarageCars  GarageArea GarageQual  \\\n",
       "433     Detchd          NaN          NaN         NaN         NaN        NaN   \n",
       "\n",
       "    GarageCond  \n",
       "433        NaN  "
      ]
     },
     "execution_count": 14,
     "metadata": {},
     "output_type": "execute_result"
    }
   ],
   "source": [
    "# GarageArea and GarageCars missing values (1 entry). \n",
    "dataset[dataset['GarageArea'].isna()].filter(like=\"Ga\")"
   ]
  },
  {
   "cell_type": "code",
   "execution_count": 15,
   "metadata": {},
   "outputs": [],
   "source": [
    "# filling na with zero\n",
    "dataset['GarageArea'].fillna(0, inplace=True)\n",
    "dataset['GarageCars'].fillna(0, inplace=True)"
   ]
  },
  {
   "cell_type": "markdown",
   "metadata": {},
   "source": [
    "#### 1.2.7 Impute Missing Electrical Values<a class=\"anchor\" id=\"electrical\"></a>"
   ]
  },
  {
   "cell_type": "code",
   "execution_count": 16,
   "metadata": {},
   "outputs": [],
   "source": [
    "# Electrical -> Replacing missing na with SBrkr (every other house built on \n",
    "# same year has Standard Circuit Breakers & Romex (SBrkr))\n",
    "dataset['Electrical'].fillna(\"SBrkr\", inplace=True)"
   ]
  },
  {
   "cell_type": "markdown",
   "metadata": {},
   "source": [
    "#### 1.2.8 Impute Missing MasVnrType and MasVnrArea Values<a class=\"anchor\" id=\"vnr\"></a>"
   ]
  },
  {
   "cell_type": "code",
   "execution_count": 17,
   "metadata": {},
   "outputs": [],
   "source": [
    "# replacing NAs in MasVnrType with None and MasVnrArea with zero\n",
    "dataset['MasVnrArea'].fillna(0, inplace=True)\n",
    "dataset['MasVnrType'].fillna(\"None\", inplace=True)"
   ]
  },
  {
   "cell_type": "markdown",
   "metadata": {},
   "source": [
    "#### 1.2.9 Data Consistency: BsmtExposure (Basement Exposure)<a class=\"anchor\" id=\"bsmtexposure\"></a>"
   ]
  },
  {
   "cell_type": "code",
   "execution_count": 18,
   "metadata": {},
   "outputs": [
    {
     "data": {
      "text/html": [
       "<div>\n",
       "<style scoped>\n",
       "    .dataframe tbody tr th:only-of-type {\n",
       "        vertical-align: middle;\n",
       "    }\n",
       "\n",
       "    .dataframe tbody tr th {\n",
       "        vertical-align: top;\n",
       "    }\n",
       "\n",
       "    .dataframe thead th {\n",
       "        text-align: right;\n",
       "    }\n",
       "</style>\n",
       "<table border=\"1\" class=\"dataframe\">\n",
       "  <thead>\n",
       "    <tr style=\"text-align: right;\">\n",
       "      <th></th>\n",
       "      <th>BsmtQual</th>\n",
       "      <th>BsmtCond</th>\n",
       "      <th>BsmtExposure</th>\n",
       "      <th>BsmtFinType1</th>\n",
       "      <th>BsmtFinSF1</th>\n",
       "      <th>BsmtFinType2</th>\n",
       "      <th>BsmtFinSF2</th>\n",
       "      <th>BsmtUnfSF</th>\n",
       "      <th>TotalBsmtSF</th>\n",
       "      <th>BsmtFullBath</th>\n",
       "      <th>BsmtHalfBath</th>\n",
       "    </tr>\n",
       "  </thead>\n",
       "  <tbody>\n",
       "    <tr>\n",
       "      <th>813</th>\n",
       "      <td>Gd</td>\n",
       "      <td>TA</td>\n",
       "      <td>NaN</td>\n",
       "      <td>Unf</td>\n",
       "      <td>0.0</td>\n",
       "      <td>Unf</td>\n",
       "      <td>0.0</td>\n",
       "      <td>936.0</td>\n",
       "      <td>936.0</td>\n",
       "      <td>0.0</td>\n",
       "      <td>0.0</td>\n",
       "    </tr>\n",
       "    <tr>\n",
       "      <th>1201</th>\n",
       "      <td>Gd</td>\n",
       "      <td>TA</td>\n",
       "      <td>NaN</td>\n",
       "      <td>Unf</td>\n",
       "      <td>0.0</td>\n",
       "      <td>Unf</td>\n",
       "      <td>0.0</td>\n",
       "      <td>1595.0</td>\n",
       "      <td>1595.0</td>\n",
       "      <td>0.0</td>\n",
       "      <td>0.0</td>\n",
       "    </tr>\n",
       "  </tbody>\n",
       "</table>\n",
       "</div>"
      ],
      "text/plain": [
       "     BsmtQual BsmtCond BsmtExposure BsmtFinType1  BsmtFinSF1 BsmtFinType2  \\\n",
       "813        Gd       TA          NaN          Unf         0.0          Unf   \n",
       "1201       Gd       TA          NaN          Unf         0.0          Unf   \n",
       "\n",
       "      BsmtFinSF2  BsmtUnfSF  TotalBsmtSF  BsmtFullBath  BsmtHalfBath  \n",
       "813          0.0      936.0        936.0           0.0           0.0  \n",
       "1201         0.0     1595.0       1595.0           0.0           0.0  "
      ]
     },
     "execution_count": 18,
     "metadata": {},
     "output_type": "execute_result"
    }
   ],
   "source": [
    "# BsmtExposure is set to not basement by mistake.It should be set to No Exposure (\"No\")\n",
    "dataset[(dataset['BsmtExposure'].isna()) & (dataset['BsmtQual'].notnull())].filter(like=\"Bsm\")\n"
   ]
  },
  {
   "cell_type": "code",
   "execution_count": 19,
   "metadata": {},
   "outputs": [],
   "source": [
    "# We will impute the values manually to No Exposure(\"No\")\n",
    "dataset.loc[[813,1201],'BsmtExposure']=\"No\""
   ]
  },
  {
   "cell_type": "code",
   "execution_count": 20,
   "metadata": {},
   "outputs": [
    {
     "data": {
      "text/html": [
       "<div>\n",
       "<style scoped>\n",
       "    .dataframe tbody tr th:only-of-type {\n",
       "        vertical-align: middle;\n",
       "    }\n",
       "\n",
       "    .dataframe tbody tr th {\n",
       "        vertical-align: top;\n",
       "    }\n",
       "\n",
       "    .dataframe thead th {\n",
       "        text-align: right;\n",
       "    }\n",
       "</style>\n",
       "<table border=\"1\" class=\"dataframe\">\n",
       "  <thead>\n",
       "    <tr style=\"text-align: right;\">\n",
       "      <th></th>\n",
       "      <th>BsmtQual</th>\n",
       "      <th>BsmtCond</th>\n",
       "      <th>BsmtExposure</th>\n",
       "      <th>BsmtFinType1</th>\n",
       "      <th>BsmtFinSF1</th>\n",
       "      <th>BsmtFinType2</th>\n",
       "      <th>BsmtFinSF2</th>\n",
       "      <th>BsmtUnfSF</th>\n",
       "      <th>TotalBsmtSF</th>\n",
       "      <th>BsmtFullBath</th>\n",
       "      <th>BsmtHalfBath</th>\n",
       "    </tr>\n",
       "  </thead>\n",
       "  <tbody>\n",
       "    <tr>\n",
       "      <th>2433</th>\n",
       "      <td>Gd</td>\n",
       "      <td>TA</td>\n",
       "      <td>No</td>\n",
       "      <td>GLQ</td>\n",
       "      <td>1124.0</td>\n",
       "      <td>NaN</td>\n",
       "      <td>479.0</td>\n",
       "      <td>1603.0</td>\n",
       "      <td>3206.0</td>\n",
       "      <td>1.0</td>\n",
       "      <td>0.0</td>\n",
       "    </tr>\n",
       "  </tbody>\n",
       "</table>\n",
       "</div>"
      ],
      "text/plain": [
       "     BsmtQual BsmtCond BsmtExposure BsmtFinType1  BsmtFinSF1 BsmtFinType2  \\\n",
       "2433       Gd       TA           No          GLQ      1124.0          NaN   \n",
       "\n",
       "      BsmtFinSF2  BsmtUnfSF  TotalBsmtSF  BsmtFullBath  BsmtHalfBath  \n",
       "2433       479.0     1603.0       3206.0           1.0           0.0  "
      ]
     },
     "execution_count": 20,
     "metadata": {},
     "output_type": "execute_result"
    }
   ],
   "source": [
    "# BsmtFinType2 is set to no basement by mistake.\n",
    "dataset[(dataset['BsmtFinType2'].isna()) & (dataset['BsmtQual'].notnull())].filter(like=\"Bsm\")"
   ]
  },
  {
   "cell_type": "code",
   "execution_count": 21,
   "metadata": {},
   "outputs": [],
   "source": [
    "# Replacing NaN with Unf = unfinished (it is only one entry)\n",
    "dataset.loc[2433,'BsmtFinType2']=\"Unf\""
   ]
  },
  {
   "cell_type": "markdown",
   "metadata": {},
   "source": [
    "#### 1.2.10 Data Consistency: Garage related variables<a class=\"anchor\" id=\"garconsistency\"></a>"
   ]
  },
  {
   "cell_type": "code",
   "execution_count": 22,
   "metadata": {},
   "outputs": [
    {
     "data": {
      "text/html": [
       "<div>\n",
       "<style scoped>\n",
       "    .dataframe tbody tr th:only-of-type {\n",
       "        vertical-align: middle;\n",
       "    }\n",
       "\n",
       "    .dataframe tbody tr th {\n",
       "        vertical-align: top;\n",
       "    }\n",
       "\n",
       "    .dataframe thead th {\n",
       "        text-align: right;\n",
       "    }\n",
       "</style>\n",
       "<table border=\"1\" class=\"dataframe\">\n",
       "  <thead>\n",
       "    <tr style=\"text-align: right;\">\n",
       "      <th></th>\n",
       "      <th>GarageType</th>\n",
       "      <th>GarageYrBlt</th>\n",
       "      <th>GarageFinish</th>\n",
       "      <th>GarageCars</th>\n",
       "      <th>GarageArea</th>\n",
       "      <th>GarageQual</th>\n",
       "      <th>GarageCond</th>\n",
       "    </tr>\n",
       "  </thead>\n",
       "  <tbody>\n",
       "    <tr>\n",
       "      <th>433</th>\n",
       "      <td>Detchd</td>\n",
       "      <td>NaN</td>\n",
       "      <td>NaN</td>\n",
       "      <td>0.0</td>\n",
       "      <td>0.0</td>\n",
       "      <td>NaN</td>\n",
       "      <td>NaN</td>\n",
       "    </tr>\n",
       "  </tbody>\n",
       "</table>\n",
       "</div>"
      ],
      "text/plain": [
       "    GarageType  GarageYrBlt GarageFinish  GarageCars  GarageArea GarageQual  \\\n",
       "433     Detchd          NaN          NaN         0.0         0.0        NaN   \n",
       "\n",
       "    GarageCond  \n",
       "433        NaN  "
      ]
     },
     "execution_count": 22,
     "metadata": {},
     "output_type": "execute_result"
    }
   ],
   "source": [
    "# GarageType is incorrect, there is no garage.\n",
    "dataset[(dataset['GarageType']=='Detchd') & (dataset['GarageArea']==0)].filter(like=\"Ga\")"
   ]
  },
  {
   "cell_type": "code",
   "execution_count": 23,
   "metadata": {},
   "outputs": [],
   "source": [
    "# since there is no garage, the GarageType for 433 was set to NaN\n",
    "dataset.loc[433,'GarageType']=\"None\""
   ]
  },
  {
   "cell_type": "code",
   "execution_count": 24,
   "metadata": {},
   "outputs": [
    {
     "data": {
      "text/html": [
       "<div>\n",
       "<style scoped>\n",
       "    .dataframe tbody tr th:only-of-type {\n",
       "        vertical-align: middle;\n",
       "    }\n",
       "\n",
       "    .dataframe tbody tr th {\n",
       "        vertical-align: top;\n",
       "    }\n",
       "\n",
       "    .dataframe thead th {\n",
       "        text-align: right;\n",
       "    }\n",
       "</style>\n",
       "<table border=\"1\" class=\"dataframe\">\n",
       "  <thead>\n",
       "    <tr style=\"text-align: right;\">\n",
       "      <th></th>\n",
       "      <th>GarageType</th>\n",
       "      <th>GarageYrBlt</th>\n",
       "      <th>GarageFinish</th>\n",
       "      <th>GarageCars</th>\n",
       "      <th>GarageArea</th>\n",
       "      <th>GarageQual</th>\n",
       "      <th>GarageCond</th>\n",
       "    </tr>\n",
       "  </thead>\n",
       "  <tbody>\n",
       "    <tr>\n",
       "      <th>433</th>\n",
       "      <td>None</td>\n",
       "      <td>NaN</td>\n",
       "      <td>NaN</td>\n",
       "      <td>0.0</td>\n",
       "      <td>0.0</td>\n",
       "      <td>NaN</td>\n",
       "      <td>NaN</td>\n",
       "    </tr>\n",
       "    <tr>\n",
       "      <th>531</th>\n",
       "      <td>Detchd</td>\n",
       "      <td>NaN</td>\n",
       "      <td>NaN</td>\n",
       "      <td>1.0</td>\n",
       "      <td>360.0</td>\n",
       "      <td>NaN</td>\n",
       "      <td>NaN</td>\n",
       "    </tr>\n",
       "  </tbody>\n",
       "</table>\n",
       "</div>"
      ],
      "text/plain": [
       "    GarageType  GarageYrBlt GarageFinish  GarageCars  GarageArea GarageQual  \\\n",
       "433       None          NaN          NaN         0.0         0.0        NaN   \n",
       "531     Detchd          NaN          NaN         1.0       360.0        NaN   \n",
       "\n",
       "    GarageCond  \n",
       "433        NaN  \n",
       "531        NaN  "
      ]
     },
     "execution_count": 24,
     "metadata": {},
     "output_type": "execute_result"
    }
   ],
   "source": [
    "# GarageYrBlt, GarageFinish, GarageQual, and GarageCond are NaN, but there is a Garage\n",
    "dataset[(dataset['GarageType'].notnull()) & (dataset['GarageFinish'].isna())].filter(like=\"Ga\")"
   ]
  },
  {
   "cell_type": "code",
   "execution_count": 25,
   "metadata": {},
   "outputs": [],
   "source": [
    "# Adding values to one observation with Detached garage\n",
    "dataset.loc[531,'GarageYrBlt'] = 1910        # Year house was built\n",
    "dataset.loc[531,'GarageFinish'] = \"Unf\"\n",
    "dataset.loc[531,'GarageQual'] = \"TA\"\n",
    "dataset.loc[531,'GarageCond'] = \"TA\""
   ]
  },
  {
   "cell_type": "code",
   "execution_count": 26,
   "metadata": {},
   "outputs": [],
   "source": [
    "# converting \"NA\" to zero in the GarageYrBlt column\n",
    "dataset['GarageYrBlt'].fillna(0, inplace=True)\n",
    "# filling all NaNs with \"NA\" (string) (except GarageYrBlt) ---> No garage, No basement, No pool, etc...\n",
    "dataset.fillna(\"None\", inplace=True)"
   ]
  },
  {
   "cell_type": "code",
   "execution_count": 27,
   "metadata": {},
   "outputs": [
    {
     "data": {
      "text/html": [
       "<div>\n",
       "<style scoped>\n",
       "    .dataframe tbody tr th:only-of-type {\n",
       "        vertical-align: middle;\n",
       "    }\n",
       "\n",
       "    .dataframe tbody tr th {\n",
       "        vertical-align: top;\n",
       "    }\n",
       "\n",
       "    .dataframe thead th {\n",
       "        text-align: right;\n",
       "    }\n",
       "</style>\n",
       "<table border=\"1\" class=\"dataframe\">\n",
       "  <thead>\n",
       "    <tr style=\"text-align: right;\">\n",
       "      <th></th>\n",
       "      <th>YearBuilt</th>\n",
       "      <th>GarageYrBlt</th>\n",
       "      <th>YearRemodAdd</th>\n",
       "      <th>YrSold</th>\n",
       "      <th>GarageArea</th>\n",
       "      <th>GarageType</th>\n",
       "    </tr>\n",
       "  </thead>\n",
       "  <tbody>\n",
       "    <tr>\n",
       "      <th>33</th>\n",
       "      <td>1923</td>\n",
       "      <td>1922.0</td>\n",
       "      <td>2000</td>\n",
       "      <td>2008</td>\n",
       "      <td>370.0</td>\n",
       "      <td>Detchd</td>\n",
       "    </tr>\n",
       "    <tr>\n",
       "      <th>238</th>\n",
       "      <td>1930</td>\n",
       "      <td>1925.0</td>\n",
       "      <td>1950</td>\n",
       "      <td>2008</td>\n",
       "      <td>160.0</td>\n",
       "      <td>Detchd</td>\n",
       "    </tr>\n",
       "    <tr>\n",
       "      <th>254</th>\n",
       "      <td>1910</td>\n",
       "      <td>1900.0</td>\n",
       "      <td>1998</td>\n",
       "      <td>2007</td>\n",
       "      <td>506.0</td>\n",
       "      <td>Detchd</td>\n",
       "    </tr>\n",
       "    <tr>\n",
       "      <th>615</th>\n",
       "      <td>2006</td>\n",
       "      <td>2005.0</td>\n",
       "      <td>2007</td>\n",
       "      <td>2007</td>\n",
       "      <td>1110.0</td>\n",
       "      <td>Attchd</td>\n",
       "    </tr>\n",
       "    <tr>\n",
       "      <th>689</th>\n",
       "      <td>1927</td>\n",
       "      <td>1920.0</td>\n",
       "      <td>1950</td>\n",
       "      <td>2008</td>\n",
       "      <td>240.0</td>\n",
       "      <td>Detchd</td>\n",
       "    </tr>\n",
       "    <tr>\n",
       "      <th>701</th>\n",
       "      <td>2005</td>\n",
       "      <td>2003.0</td>\n",
       "      <td>2005</td>\n",
       "      <td>2006</td>\n",
       "      <td>736.0</td>\n",
       "      <td>BuiltIn</td>\n",
       "    </tr>\n",
       "    <tr>\n",
       "      <th>738</th>\n",
       "      <td>1959</td>\n",
       "      <td>1954.0</td>\n",
       "      <td>1959</td>\n",
       "      <td>2006</td>\n",
       "      <td>539.0</td>\n",
       "      <td>BuiltIn</td>\n",
       "    </tr>\n",
       "    <tr>\n",
       "      <th>905</th>\n",
       "      <td>1945</td>\n",
       "      <td>1925.0</td>\n",
       "      <td>1995</td>\n",
       "      <td>2008</td>\n",
       "      <td>164.0</td>\n",
       "      <td>Attchd</td>\n",
       "    </tr>\n",
       "    <tr>\n",
       "      <th>941</th>\n",
       "      <td>2006</td>\n",
       "      <td>2005.0</td>\n",
       "      <td>2006</td>\n",
       "      <td>2007</td>\n",
       "      <td>674.0</td>\n",
       "      <td>Attchd</td>\n",
       "    </tr>\n",
       "    <tr>\n",
       "      <th>945</th>\n",
       "      <td>1963</td>\n",
       "      <td>1962.0</td>\n",
       "      <td>1963</td>\n",
       "      <td>2008</td>\n",
       "      <td>336.0</td>\n",
       "      <td>Detchd</td>\n",
       "    </tr>\n",
       "    <tr>\n",
       "      <th>1433</th>\n",
       "      <td>1935</td>\n",
       "      <td>1920.0</td>\n",
       "      <td>1998</td>\n",
       "      <td>2009</td>\n",
       "      <td>162.0</td>\n",
       "      <td>Detchd</td>\n",
       "    </tr>\n",
       "    <tr>\n",
       "      <th>1880</th>\n",
       "      <td>1950</td>\n",
       "      <td>1949.0</td>\n",
       "      <td>1950</td>\n",
       "      <td>2006</td>\n",
       "      <td>400.0</td>\n",
       "      <td>Detchd</td>\n",
       "    </tr>\n",
       "    <tr>\n",
       "      <th>1901</th>\n",
       "      <td>1935</td>\n",
       "      <td>1926.0</td>\n",
       "      <td>1950</td>\n",
       "      <td>2009</td>\n",
       "      <td>180.0</td>\n",
       "      <td>Detchd</td>\n",
       "    </tr>\n",
       "    <tr>\n",
       "      <th>1987</th>\n",
       "      <td>1978</td>\n",
       "      <td>1960.0</td>\n",
       "      <td>1978</td>\n",
       "      <td>2009</td>\n",
       "      <td>252.0</td>\n",
       "      <td>Detchd</td>\n",
       "    </tr>\n",
       "    <tr>\n",
       "      <th>2188</th>\n",
       "      <td>2010</td>\n",
       "      <td>2009.0</td>\n",
       "      <td>2010</td>\n",
       "      <td>2010</td>\n",
       "      <td>615.0</td>\n",
       "      <td>Attchd</td>\n",
       "    </tr>\n",
       "    <tr>\n",
       "      <th>2295</th>\n",
       "      <td>1941</td>\n",
       "      <td>1940.0</td>\n",
       "      <td>1950</td>\n",
       "      <td>2009</td>\n",
       "      <td>256.0</td>\n",
       "      <td>Detchd</td>\n",
       "    </tr>\n",
       "    <tr>\n",
       "      <th>2397</th>\n",
       "      <td>1967</td>\n",
       "      <td>1961.0</td>\n",
       "      <td>2007</td>\n",
       "      <td>2010</td>\n",
       "      <td>564.0</td>\n",
       "      <td>BuiltIn</td>\n",
       "    </tr>\n",
       "    <tr>\n",
       "      <th>2558</th>\n",
       "      <td>1959</td>\n",
       "      <td>1956.0</td>\n",
       "      <td>1959</td>\n",
       "      <td>2010</td>\n",
       "      <td>440.0</td>\n",
       "      <td>Attchd</td>\n",
       "    </tr>\n",
       "  </tbody>\n",
       "</table>\n",
       "</div>"
      ],
      "text/plain": [
       "      YearBuilt  GarageYrBlt  YearRemodAdd  YrSold  GarageArea GarageType\n",
       "33         1923       1922.0          2000    2008       370.0     Detchd\n",
       "238        1930       1925.0          1950    2008       160.0     Detchd\n",
       "254        1910       1900.0          1998    2007       506.0     Detchd\n",
       "615        2006       2005.0          2007    2007      1110.0     Attchd\n",
       "689        1927       1920.0          1950    2008       240.0     Detchd\n",
       "701        2005       2003.0          2005    2006       736.0    BuiltIn\n",
       "738        1959       1954.0          1959    2006       539.0    BuiltIn\n",
       "905        1945       1925.0          1995    2008       164.0     Attchd\n",
       "941        2006       2005.0          2006    2007       674.0     Attchd\n",
       "945        1963       1962.0          1963    2008       336.0     Detchd\n",
       "1433       1935       1920.0          1998    2009       162.0     Detchd\n",
       "1880       1950       1949.0          1950    2006       400.0     Detchd\n",
       "1901       1935       1926.0          1950    2009       180.0     Detchd\n",
       "1987       1978       1960.0          1978    2009       252.0     Detchd\n",
       "2188       2010       2009.0          2010    2010       615.0     Attchd\n",
       "2295       1941       1940.0          1950    2009       256.0     Detchd\n",
       "2397       1967       1961.0          2007    2010       564.0    BuiltIn\n",
       "2558       1959       1956.0          1959    2010       440.0     Attchd"
      ]
     },
     "execution_count": 27,
     "metadata": {},
     "output_type": "execute_result"
    }
   ],
   "source": [
    "# Garage built before the house ?\n",
    "dataset[(dataset['YearBuilt']>dataset['GarageYrBlt']) & (dataset['GarageArea']>0)][['YearBuilt','GarageYrBlt','YearRemodAdd','YrSold','GarageArea','GarageType']]"
   ]
  },
  {
   "cell_type": "code",
   "execution_count": 28,
   "metadata": {},
   "outputs": [],
   "source": [
    "# Updated GarageYrBlt with YearBuilt when the GarageYrBlt is before the house YearBuilt\n",
    "new_years = pd.DataFrame(dataset[(dataset['YearBuilt']>dataset['GarageYrBlt']) & (dataset['GarageArea']>0)]['YearBuilt'])\n",
    "new_years.columns = ['GarageYrBlt']\n",
    "dataset.update(new_years)"
   ]
  },
  {
   "cell_type": "markdown",
   "metadata": {},
   "source": [
    "#### 1.2.11 Data Consistency: YearRemodAdd<a class=\"anchor\" id=\"yraconsistency\"></a>"
   ]
  },
  {
   "cell_type": "code",
   "execution_count": 29,
   "metadata": {},
   "outputs": [
    {
     "data": {
      "text/html": [
       "<div>\n",
       "<style scoped>\n",
       "    .dataframe tbody tr th:only-of-type {\n",
       "        vertical-align: middle;\n",
       "    }\n",
       "\n",
       "    .dataframe tbody tr th {\n",
       "        vertical-align: top;\n",
       "    }\n",
       "\n",
       "    .dataframe thead th {\n",
       "        text-align: right;\n",
       "    }\n",
       "</style>\n",
       "<table border=\"1\" class=\"dataframe\">\n",
       "  <thead>\n",
       "    <tr style=\"text-align: right;\">\n",
       "      <th></th>\n",
       "      <th>YearBuilt</th>\n",
       "      <th>GarageYrBlt</th>\n",
       "      <th>YearRemodAdd</th>\n",
       "      <th>YrSold</th>\n",
       "    </tr>\n",
       "  </thead>\n",
       "  <tbody>\n",
       "    <tr>\n",
       "      <th>2033</th>\n",
       "      <td>2002</td>\n",
       "      <td>2002.0</td>\n",
       "      <td>2001</td>\n",
       "      <td>2009</td>\n",
       "    </tr>\n",
       "  </tbody>\n",
       "</table>\n",
       "</div>"
      ],
      "text/plain": [
       "      YearBuilt  GarageYrBlt  YearRemodAdd  YrSold\n",
       "2033       2002       2002.0          2001    2009"
      ]
     },
     "execution_count": 29,
     "metadata": {},
     "output_type": "execute_result"
    }
   ],
   "source": [
    "# Houses updated (YearRemodAdd) before the house construction date\n",
    "dataset[dataset['YearBuilt']>dataset['YearRemodAdd']][['YearBuilt','GarageYrBlt','YearRemodAdd','YrSold']]"
   ]
  },
  {
   "cell_type": "code",
   "execution_count": 32,
   "metadata": {},
   "outputs": [],
   "source": [
    "# udpate\n",
    "dataset.loc[2033,'YearRemodAdd']=2002"
   ]
  },
  {
   "cell_type": "markdown",
   "metadata": {},
   "source": [
    "<br><br>\n",
    "<hr style=\"height:1px;border:none;color:#333;background-color:#333;\" />\n",
    "\n",
    "## 1.3 Write cleaned dataset to csv file<a class=\"anchor\" id=\"writecsv\"></a>"
   ]
  },
  {
   "cell_type": "code",
   "execution_count": 33,
   "metadata": {},
   "outputs": [],
   "source": [
    "# Write cleaned dataset to csv file\n",
    "dataset.to_csv('../ariel/Price_Data_cleaned.csv', index=False)"
   ]
  }
 ],
 "metadata": {
  "hide_input": false,
  "kernelspec": {
   "display_name": "Python 3",
   "language": "python",
   "name": "python3"
  },
  "language_info": {
   "codemirror_mode": {
    "name": "ipython",
    "version": 3
   },
   "file_extension": ".py",
   "mimetype": "text/x-python",
   "name": "python",
   "nbconvert_exporter": "python",
   "pygments_lexer": "ipython3",
   "version": "3.8.3"
  },
  "latex_envs": {
   "LaTeX_envs_menu_present": true,
   "autoclose": false,
   "autocomplete": true,
   "bibliofile": "biblio.bib",
   "cite_by": "apalike",
   "current_citInitial": 1,
   "eqLabelWithNumbers": true,
   "eqNumInitial": 1,
   "hotkeys": {
    "equation": "Ctrl-E",
    "itemize": "Ctrl-I"
   },
   "labels_anchors": false,
   "latex_user_defs": false,
   "report_style_numbering": false,
   "user_envs_cfg": false
  },
  "toc": {
   "base_numbering": 1,
   "nav_menu": {},
   "number_sections": true,
   "sideBar": true,
   "skip_h1_title": false,
   "title_cell": "Table of Contents",
   "title_sidebar": "Contents",
   "toc_cell": false,
   "toc_position": {},
   "toc_section_display": true,
   "toc_window_display": true
  }
 },
 "nbformat": 4,
 "nbformat_minor": 4
}
