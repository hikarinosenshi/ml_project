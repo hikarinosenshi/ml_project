{
 "cells": [
  {
   "cell_type": "markdown",
   "metadata": {},
   "source": [
    "## Feature Evaluation\n",
    "<hr style=\"height:1px;border:none;color:#333;background-color:#333;\" />"
   ]
  },
  {
   "cell_type": "markdown",
   "metadata": {},
   "source": [
    "## Table of Contents\n",
    "\n",
    "* [1.1 Environment Setup](#env-setup)\n",
    "    * [1.1.1 Importing Modules](#imports)\n",
    "    * [1.1.2 Display Settings](#display-setup)\n",
    "    * [1.1.3 Load Data](#read-file)\n",
    "    * [1.1.4 Model Features](#features)\n",
    "<br><br>\n",
    "* [1.2 Evaluation of Features](#eval-section)\n",
    "    * [1.2.1 Roof Material Evaluation](#eval-roof)\n",
    "    * [1.2.2 Fence Quality Evaluation](#eval-fence)"
   ]
  },
  {
   "cell_type": "markdown",
   "metadata": {},
   "source": [
    "### 1.1 Environment Setup  <a class=\"anchor\" id=\"env-setup\"></a>"
   ]
  },
  {
   "cell_type": "markdown",
   "metadata": {},
   "source": [
    "#### 1.1.1 Importing Modules<a class=\"anchor\" id=\"imports\"></a>"
   ]
  },
  {
   "cell_type": "code",
   "execution_count": 1,
   "metadata": {},
   "outputs": [],
   "source": [
    "# import modules\n",
    "from sklearn.linear_model import LinearRegression, Lasso, LassoCV\n",
    "from sklearn.preprocessing import MinMaxScaler\n",
    "from sklearn.metrics import confusion_matrix\n",
    "from sklearn.model_selection import train_test_split\n",
    "from IPython.display import display, HTML\n",
    "import warnings\n",
    "import statsmodels.formula.api as smf\n",
    "from scipy import stats\n",
    "import math\n",
    "import pandas as pd\n",
    "import numpy as np\n",
    "import seaborn as sns\n",
    "import matplotlib.pyplot as plt\n",
    "%matplotlib inline\n",
    "warnings.filterwarnings(\"ignore\")"
   ]
  },
  {
   "cell_type": "markdown",
   "metadata": {},
   "source": [
    "#### 1.1.2 Display Settings<a class=\"anchor\" id=\"display-setup\"></a>"
   ]
  },
  {
   "cell_type": "code",
   "execution_count": 2,
   "metadata": {},
   "outputs": [],
   "source": [
    "pd.set_option('display.max_columns', None) # display all the columns of a dataframe\n",
    "pd.set_option('display.max_rows', 100)     # display 100 rows of a dataframe"
   ]
  },
  {
   "cell_type": "markdown",
   "metadata": {},
   "source": [
    "#### 1.1.3 Load data<a class=\"anchor\" id=\"read-file\"></a>"
   ]
  },
  {
   "cell_type": "code",
   "execution_count": 3,
   "metadata": {},
   "outputs": [],
   "source": [
    "# Load cleaned data - see \"Data Cleansing.ipynb\"\n",
    "dataset = pd.read_csv('../data/Prep_Data.csv')\n",
    "dataset_encoded = pd.read_csv('../data/Data_Encoded.csv')"
   ]
  },
  {
   "cell_type": "markdown",
   "metadata": {},
   "source": [
    "#### 1.1.4 Features for Model (Including Target Variable)<a class=\"anchor\" id=\"features\"></a>"
   ]
  },
  {
   "cell_type": "code",
   "execution_count": 4,
   "metadata": {},
   "outputs": [],
   "source": [
    "model_features = ['SalePrice','TotalBsmtSF', 'OverallQual', 'YearBuilt', 'log10_GrLivArea', 'OverallCond', 'log10_LotArea', 'BsmtUnfSF']"
   ]
  },
  {
   "cell_type": "markdown",
   "metadata": {},
   "source": [
    "<br><br>\n",
    "<hr style=\"height:1px;border:none;color:#333;background-color:#333;\" />\n",
    "\n",
    "### 1.5 Evaluating Overall Quality, Fence, and Roof<a class=\"anchor\" id=\"eval-section\"></a>"
   ]
  },
  {
   "cell_type": "markdown",
   "metadata": {},
   "source": [
    "#### Evaluation Roof Material<a class=\"anchor\" id=\"eval-roof\"></a>"
   ]
  },
  {
   "cell_type": "markdown",
   "metadata": {},
   "source": [
    "<h4>Roof material</h4>\n",
    "<p>&nbsp;</p>\n",
    "<table style=\"border-collapse: collapse; width: 46.0227%; height: 162px;\" border=\"1\">\n",
    "<thead>\n",
    "<tr style=\"border-style: ridge; height: 18px;\">\n",
    "<td style=\"width: 3.50375%; height: 18px; border-style: ridge; text-align: center;\"><strong>Abbreviation</strong></td>\n",
    "<td style=\"width: 9.18553%; height: 18px; border-style: ridge; text-align: center;\"><strong>Material</strong></td>\n",
    "</tr>\n",
    "</thead>\n",
    "<tbody>\n",
    "<tr style=\"height: 18px;\">\n",
    "<td style=\"width: 3.50375%; height: 18px; border-style: ridge; text-align: left;\">&nbsp; ClyTile</td>\n",
    "<td style=\"width: 9.18553%; height: 18px; border-style: ridge; text-align: left;\">Clay or Tile</td>\n",
    "</tr>\n",
    "<tr style=\"height: 18px;\">\n",
    "<td style=\"width: 3.50375%; height: 18px; border-style: ridge; text-align: left;\">&nbsp; CompShg</td>\n",
    "<td style=\"width: 9.18553%; height: 18px; border-style: ridge; text-align: left;\">Standard (Composite) Shingle</td>\n",
    "</tr>\n",
    "<tr style=\"height: 18px;\">\n",
    "<td style=\"width: 3.50375%; height: 18px; border-style: ridge; text-align: left;\">&nbsp; Membran</td>\n",
    "<td style=\"width: 9.18553%; height: 18px; border-style: ridge; text-align: left;\">Membrane</td>\n",
    "</tr>\n",
    "<tr style=\"height: 18px;\">\n",
    "<td style=\"width: 3.50375%; height: 18px; border-style: ridge; text-align: left;\">&nbsp; Metal</td>\n",
    "<td style=\"width: 9.18553%; height: 18px; border-style: ridge; text-align: left;\">Metal</td>\n",
    "</tr>\n",
    "<tr style=\"height: 18px;\">\n",
    "<td style=\"width: 3.50375%; height: 18px; border-style: ridge; text-align: left;\">&nbsp; Roll</td>\n",
    "<td style=\"width: 9.18553%; height: 18px; border-style: ridge; text-align: left;\">Roll</td>\n",
    "</tr>\n",
    "<tr style=\"height: 18px;\">\n",
    "<td style=\"width: 3.50375%; height: 18px; border-style: ridge; text-align: left;\">&nbsp; Tar&amp;Grv</td>\n",
    "<td style=\"width: 9.18553%; height: 18px; border-style: ridge; text-align: left;\">Gravel &amp; Tar</td>\n",
    "</tr>\n",
    "<tr style=\"height: 18px;\">\n",
    "<td style=\"width: 3.50375%; height: 18px; border-style: ridge; text-align: left;\">&nbsp; WdShake</td>\n",
    "<td style=\"width: 9.18553%; height: 18px; border-style: ridge; text-align: left;\">Wood Shakes</td>\n",
    "</tr>\n",
    "<tr style=\"height: 18px;\">\n",
    "<td style=\"width: 3.50375%; height: 18px; border-style: ridge; text-align: left;\">&nbsp; WdShngl</td>\n",
    "<td style=\"width: 9.18553%; height: 18px; border-style: ridge; text-align: left;\">Wood Shingles</td>\n",
    "</tr>\n",
    "</tbody>\n",
    "</table>"
   ]
  },
  {
   "cell_type": "code",
   "execution_count": 5,
   "metadata": {},
   "outputs": [
    {
     "data": {
      "text/plain": [
       "RoofMatl\n",
       "CompShg    7\n",
       "WdShngl    1\n",
       "dtype: int64"
      ]
     },
     "execution_count": 5,
     "metadata": {},
     "output_type": "execute_result"
    }
   ],
   "source": [
    "# dataset.groupby('RoofMatl').size()\n",
    "dataset[dataset['SalePrice']>=500000].groupby('RoofMatl').size()"
   ]
  },
  {
   "cell_type": "code",
   "execution_count": 6,
   "metadata": {},
   "outputs": [],
   "source": [
    "roof_matl_dict = ({\"ClyTile\":\"Clay or Tile\",\"CompShg\":\"Standard (Composite) Shingle\",\"Membran\":\"Membrane\",\n",
    "                   \"Metal\":\"Metal\",\"Roll\":\"Roll\",\"Tar&Grv\":\"Gravel & Tar\",\"WdShake\":\"Wood Shakes\",\n",
    "                   \"WdShngl\":\"Wood Shingles\",})"
   ]
  },
  {
   "cell_type": "code",
   "execution_count": 7,
   "metadata": {},
   "outputs": [],
   "source": [
    "roofmatl_count = dataset.groupby(['RoofMatl']).agg({\"RoofMatl\":\"count\"})\n",
    "roofmatl_count.columns = ['Number of Houses']\n",
    "roofmatl_count['Percentage of Houses'] = roofmatl_count['Number of Houses']/dataset.shape[0]*100\n",
    "roofmatl_count.reset_index(inplace=True)\n",
    "roofmatl_count.columns=[\"Roof Material\",'Number of Houses','Percentage of Houses']\n",
    "roofmatl_count['Roof Material'].replace(roof_matl_dict, inplace=True)"
   ]
  },
  {
   "cell_type": "markdown",
   "metadata": {},
   "source": [
    "#### Percentage of Houses for each Roof Material"
   ]
  },
  {
   "cell_type": "code",
   "execution_count": 8,
   "metadata": {},
   "outputs": [
    {
     "data": {
      "text/html": [
       "<style  type=\"text/css\" >\n",
       "    #T_d0172dcc_32a4_11eb_a8e7_acde48001122row0_col2 {\n",
       "            color:  black;\n",
       "        }    #T_d0172dcc_32a4_11eb_a8e7_acde48001122row1_col2 {\n",
       "            color:  red;\n",
       "        }    #T_d0172dcc_32a4_11eb_a8e7_acde48001122row2_col2 {\n",
       "            color:  red;\n",
       "        }    #T_d0172dcc_32a4_11eb_a8e7_acde48001122row3_col2 {\n",
       "            color:  red;\n",
       "        }    #T_d0172dcc_32a4_11eb_a8e7_acde48001122row4_col2 {\n",
       "            color:  red;\n",
       "        }    #T_d0172dcc_32a4_11eb_a8e7_acde48001122row5_col2 {\n",
       "            color:  red;\n",
       "        }    #T_d0172dcc_32a4_11eb_a8e7_acde48001122row6_col2 {\n",
       "            color:  red;\n",
       "        }</style><table id=\"T_d0172dcc_32a4_11eb_a8e7_acde48001122\" ><thead>    <tr>        <th class=\"col_heading level0 col0\" >Roof Material</th>        <th class=\"col_heading level0 col1\" >Number of Houses</th>        <th class=\"col_heading level0 col2\" >Percentage of Houses</th>    </tr></thead><tbody>\n",
       "                <tr>\n",
       "                                <td id=\"T_d0172dcc_32a4_11eb_a8e7_acde48001122row0_col0\" class=\"data row0 col0\" >Standard (Composite) Shingle</td>\n",
       "                        <td id=\"T_d0172dcc_32a4_11eb_a8e7_acde48001122row0_col1\" class=\"data row0 col1\" >2381</td>\n",
       "                        <td id=\"T_d0172dcc_32a4_11eb_a8e7_acde48001122row0_col2\" class=\"data row0 col2\" >98.673850</td>\n",
       "            </tr>\n",
       "            <tr>\n",
       "                                <td id=\"T_d0172dcc_32a4_11eb_a8e7_acde48001122row1_col0\" class=\"data row1 col0\" >Membrane</td>\n",
       "                        <td id=\"T_d0172dcc_32a4_11eb_a8e7_acde48001122row1_col1\" class=\"data row1 col1\" >1</td>\n",
       "                        <td id=\"T_d0172dcc_32a4_11eb_a8e7_acde48001122row1_col2\" class=\"data row1 col2\" >0.041442</td>\n",
       "            </tr>\n",
       "            <tr>\n",
       "                                <td id=\"T_d0172dcc_32a4_11eb_a8e7_acde48001122row2_col0\" class=\"data row2 col0\" >Metal</td>\n",
       "                        <td id=\"T_d0172dcc_32a4_11eb_a8e7_acde48001122row2_col1\" class=\"data row2 col1\" >1</td>\n",
       "                        <td id=\"T_d0172dcc_32a4_11eb_a8e7_acde48001122row2_col2\" class=\"data row2 col2\" >0.041442</td>\n",
       "            </tr>\n",
       "            <tr>\n",
       "                                <td id=\"T_d0172dcc_32a4_11eb_a8e7_acde48001122row3_col0\" class=\"data row3 col0\" >Roll</td>\n",
       "                        <td id=\"T_d0172dcc_32a4_11eb_a8e7_acde48001122row3_col1\" class=\"data row3 col1\" >1</td>\n",
       "                        <td id=\"T_d0172dcc_32a4_11eb_a8e7_acde48001122row3_col2\" class=\"data row3 col2\" >0.041442</td>\n",
       "            </tr>\n",
       "            <tr>\n",
       "                                <td id=\"T_d0172dcc_32a4_11eb_a8e7_acde48001122row4_col0\" class=\"data row4 col0\" >Gravel & Tar</td>\n",
       "                        <td id=\"T_d0172dcc_32a4_11eb_a8e7_acde48001122row4_col1\" class=\"data row4 col1\" >15</td>\n",
       "                        <td id=\"T_d0172dcc_32a4_11eb_a8e7_acde48001122row4_col2\" class=\"data row4 col2\" >0.621633</td>\n",
       "            </tr>\n",
       "            <tr>\n",
       "                                <td id=\"T_d0172dcc_32a4_11eb_a8e7_acde48001122row5_col0\" class=\"data row5 col0\" >Wood Shakes</td>\n",
       "                        <td id=\"T_d0172dcc_32a4_11eb_a8e7_acde48001122row5_col1\" class=\"data row5 col1\" >7</td>\n",
       "                        <td id=\"T_d0172dcc_32a4_11eb_a8e7_acde48001122row5_col2\" class=\"data row5 col2\" >0.290095</td>\n",
       "            </tr>\n",
       "            <tr>\n",
       "                                <td id=\"T_d0172dcc_32a4_11eb_a8e7_acde48001122row6_col0\" class=\"data row6 col0\" >Wood Shingles</td>\n",
       "                        <td id=\"T_d0172dcc_32a4_11eb_a8e7_acde48001122row6_col1\" class=\"data row6 col1\" >7</td>\n",
       "                        <td id=\"T_d0172dcc_32a4_11eb_a8e7_acde48001122row6_col2\" class=\"data row6 col2\" >0.290095</td>\n",
       "            </tr>\n",
       "    </tbody></table>"
      ],
      "text/plain": [
       "<pandas.io.formats.style.Styler at 0x7fd083e8d5b0>"
      ]
     },
     "metadata": {},
     "output_type": "display_data"
    }
   ],
   "source": [
    "display(roofmatl_count.style.applymap(lambda x: 'color: red' if (x<1.0) else 'color: black', subset=['Percentage of Houses']).hide_index())"
   ]
  },
  {
   "cell_type": "markdown",
   "metadata": {},
   "source": [
    "<ul>\n",
    "<li>Approximately 99% of the houses in our dataset have Standard Composite Shingle on their roof. It is not possible to see a pattern to determine if a different roof materials would add or subtract value from the base price of the house.</li>\n",
    "</ul>"
   ]
  },
  {
   "cell_type": "markdown",
   "metadata": {},
   "source": [
    "In hope of getting a better understanding of when did different roof materials were used we took a look at the construction year of the houses in the dataset. "
   ]
  },
  {
   "cell_type": "code",
   "execution_count": 9,
   "metadata": {},
   "outputs": [
    {
     "data": {
      "text/html": [
       "<style  type=\"text/css\" >\n",
       "</style><table id=\"T_d0195930_32a4_11eb_a8e7_acde48001122\" ><thead>    <tr>        <th class=\"col_heading level0 col0\" >Roof Material</th>        <th class=\"col_heading level0 col1\" >Minimum(Year Built)</th>        <th class=\"col_heading level0 col2\" >Maximum(Year Built)</th>        <th class=\"col_heading level0 col3\" >Average(Year Built)</th>    </tr></thead><tbody>\n",
       "                <tr>\n",
       "                                <td id=\"T_d0195930_32a4_11eb_a8e7_acde48001122row0_col0\" class=\"data row0 col0\" >Standard (Composite) Shingle</td>\n",
       "                        <td id=\"T_d0195930_32a4_11eb_a8e7_acde48001122row0_col1\" class=\"data row0 col1\" >1872</td>\n",
       "                        <td id=\"T_d0195930_32a4_11eb_a8e7_acde48001122row0_col2\" class=\"data row0 col2\" >2010</td>\n",
       "                        <td id=\"T_d0195930_32a4_11eb_a8e7_acde48001122row0_col3\" class=\"data row0 col3\" >1969</td>\n",
       "            </tr>\n",
       "            <tr>\n",
       "                                <td id=\"T_d0195930_32a4_11eb_a8e7_acde48001122row1_col0\" class=\"data row1 col0\" >Membrane</td>\n",
       "                        <td id=\"T_d0195930_32a4_11eb_a8e7_acde48001122row1_col1\" class=\"data row1 col1\" >1954</td>\n",
       "                        <td id=\"T_d0195930_32a4_11eb_a8e7_acde48001122row1_col2\" class=\"data row1 col2\" >1954</td>\n",
       "                        <td id=\"T_d0195930_32a4_11eb_a8e7_acde48001122row1_col3\" class=\"data row1 col3\" >1954</td>\n",
       "            </tr>\n",
       "            <tr>\n",
       "                                <td id=\"T_d0195930_32a4_11eb_a8e7_acde48001122row2_col0\" class=\"data row2 col0\" >Metal</td>\n",
       "                        <td id=\"T_d0195930_32a4_11eb_a8e7_acde48001122row2_col1\" class=\"data row2 col1\" >1969</td>\n",
       "                        <td id=\"T_d0195930_32a4_11eb_a8e7_acde48001122row2_col2\" class=\"data row2 col2\" >1969</td>\n",
       "                        <td id=\"T_d0195930_32a4_11eb_a8e7_acde48001122row2_col3\" class=\"data row2 col3\" >1969</td>\n",
       "            </tr>\n",
       "            <tr>\n",
       "                                <td id=\"T_d0195930_32a4_11eb_a8e7_acde48001122row3_col0\" class=\"data row3 col0\" >Roll</td>\n",
       "                        <td id=\"T_d0195930_32a4_11eb_a8e7_acde48001122row3_col1\" class=\"data row3 col1\" >1948</td>\n",
       "                        <td id=\"T_d0195930_32a4_11eb_a8e7_acde48001122row3_col2\" class=\"data row3 col2\" >1948</td>\n",
       "                        <td id=\"T_d0195930_32a4_11eb_a8e7_acde48001122row3_col3\" class=\"data row3 col3\" >1948</td>\n",
       "            </tr>\n",
       "            <tr>\n",
       "                                <td id=\"T_d0195930_32a4_11eb_a8e7_acde48001122row4_col0\" class=\"data row4 col0\" >Gravel & Tar</td>\n",
       "                        <td id=\"T_d0195930_32a4_11eb_a8e7_acde48001122row4_col1\" class=\"data row4 col1\" >1940</td>\n",
       "                        <td id=\"T_d0195930_32a4_11eb_a8e7_acde48001122row4_col2\" class=\"data row4 col2\" >2004</td>\n",
       "                        <td id=\"T_d0195930_32a4_11eb_a8e7_acde48001122row4_col3\" class=\"data row4 col3\" >1963</td>\n",
       "            </tr>\n",
       "            <tr>\n",
       "                                <td id=\"T_d0195930_32a4_11eb_a8e7_acde48001122row5_col0\" class=\"data row5 col0\" >Wood Shakes</td>\n",
       "                        <td id=\"T_d0195930_32a4_11eb_a8e7_acde48001122row5_col1\" class=\"data row5 col1\" >1967</td>\n",
       "                        <td id=\"T_d0195930_32a4_11eb_a8e7_acde48001122row5_col2\" class=\"data row5 col2\" >1993</td>\n",
       "                        <td id=\"T_d0195930_32a4_11eb_a8e7_acde48001122row5_col3\" class=\"data row5 col3\" >1979</td>\n",
       "            </tr>\n",
       "            <tr>\n",
       "                                <td id=\"T_d0195930_32a4_11eb_a8e7_acde48001122row6_col0\" class=\"data row6 col0\" >Wood Shingles</td>\n",
       "                        <td id=\"T_d0195930_32a4_11eb_a8e7_acde48001122row6_col1\" class=\"data row6 col1\" >1892</td>\n",
       "                        <td id=\"T_d0195930_32a4_11eb_a8e7_acde48001122row6_col2\" class=\"data row6 col2\" >1994</td>\n",
       "                        <td id=\"T_d0195930_32a4_11eb_a8e7_acde48001122row6_col3\" class=\"data row6 col3\" >1966</td>\n",
       "            </tr>\n",
       "    </tbody></table>"
      ],
      "text/plain": [
       "<pandas.io.formats.style.Styler at 0x7fd083ec0fd0>"
      ]
     },
     "execution_count": 9,
     "metadata": {},
     "output_type": "execute_result"
    }
   ],
   "source": [
    "# Evaluating the YearBuilt variable for each roof materical\n",
    "df_roof_temp = dataset.groupby('RoofMatl').agg({\"YearBuilt\":[\"min\",\"max\",\"mean\"]}).reset_index()\n",
    "df_roof_temp.columns = ['Roof Material','Minimum(Year Built)', 'Maximum(Year Built)', 'Average(Year Built)']\n",
    "df_roof_temp['Roof Material'].replace(roof_matl_dict, inplace=True)\n",
    "df_roof_temp['Average(Year Built)'] = df_roof_temp['Average(Year Built)'].astype('int32')\n",
    "df_roof_temp.style.hide_index()"
   ]
  },
  {
   "cell_type": "markdown",
   "metadata": {},
   "source": [
    "Houses built after 1990"
   ]
  },
  {
   "cell_type": "code",
   "execution_count": 10,
   "metadata": {},
   "outputs": [
    {
     "data": {
      "text/html": [
       "<style  type=\"text/css\" >\n",
       "</style><table id=\"T_d01af556_32a4_11eb_a8e7_acde48001122\" ><thead>    <tr>        <th class=\"col_heading level0 col0\" >Roof Material</th>        <th class=\"col_heading level0 col1\" >Number of Houses</th>        <th class=\"col_heading level0 col2\" >Percentage of Houses</th>    </tr></thead><tbody>\n",
       "                <tr>\n",
       "                                <td id=\"T_d01af556_32a4_11eb_a8e7_acde48001122row0_col0\" class=\"data row0 col0\" >CompShg</td>\n",
       "                        <td id=\"T_d01af556_32a4_11eb_a8e7_acde48001122row0_col1\" class=\"data row0 col1\" >833</td>\n",
       "                        <td id=\"T_d01af556_32a4_11eb_a8e7_acde48001122row0_col2\" class=\"data row0 col2\" >99.640000</td>\n",
       "            </tr>\n",
       "            <tr>\n",
       "                                <td id=\"T_d01af556_32a4_11eb_a8e7_acde48001122row1_col0\" class=\"data row1 col0\" >Tar&Grv</td>\n",
       "                        <td id=\"T_d01af556_32a4_11eb_a8e7_acde48001122row1_col1\" class=\"data row1 col1\" >1</td>\n",
       "                        <td id=\"T_d01af556_32a4_11eb_a8e7_acde48001122row1_col2\" class=\"data row1 col2\" >0.120000</td>\n",
       "            </tr>\n",
       "            <tr>\n",
       "                                <td id=\"T_d01af556_32a4_11eb_a8e7_acde48001122row2_col0\" class=\"data row2 col0\" >WdShake</td>\n",
       "                        <td id=\"T_d01af556_32a4_11eb_a8e7_acde48001122row2_col1\" class=\"data row2 col1\" >1</td>\n",
       "                        <td id=\"T_d01af556_32a4_11eb_a8e7_acde48001122row2_col2\" class=\"data row2 col2\" >0.120000</td>\n",
       "            </tr>\n",
       "            <tr>\n",
       "                                <td id=\"T_d01af556_32a4_11eb_a8e7_acde48001122row3_col0\" class=\"data row3 col0\" >WdShngl</td>\n",
       "                        <td id=\"T_d01af556_32a4_11eb_a8e7_acde48001122row3_col1\" class=\"data row3 col1\" >1</td>\n",
       "                        <td id=\"T_d01af556_32a4_11eb_a8e7_acde48001122row3_col2\" class=\"data row3 col2\" >0.120000</td>\n",
       "            </tr>\n",
       "    </tbody></table>"
      ],
      "text/plain": [
       "<pandas.io.formats.style.Styler at 0x7fd0859c1370>"
      ]
     },
     "execution_count": 10,
     "metadata": {},
     "output_type": "execute_result"
    }
   ],
   "source": [
    "temp=pd.DataFrame(dataset[dataset['YearBuilt']>=1990].groupby('RoofMatl').size()).reset_index()\n",
    "temp.columns = ['Roof Material', 'Number of Houses']\n",
    "temp['Percentage of Houses']=round(temp['Number of Houses'] / temp['Number of Houses'].sum() * 100,2)\n",
    "temp.style.hide_index()"
   ]
  },
  {
   "cell_type": "markdown",
   "metadata": {},
   "source": [
    "Summary: it is clear from the data analyzed that the most prominent roof material is standard shingles. Should the house roof material requires replacement we recommend to use standard shingles. We are not able to determine from the data available if choosing other materials would increase or decrease the value of the house."
   ]
  },
  {
   "cell_type": "code",
   "execution_count": 11,
   "metadata": {
    "hide_input": false
   },
   "outputs": [],
   "source": [
    "# Dataset of Model Features + dummified Roof Material features\n",
    "df_roof = pd.concat([dataset_encoded[model_features],pd.get_dummies(dataset['RoofMatl'])], axis=1)\n",
    "df_roof.rename(columns={\"Tar&Grv\":\"TarGrv\"}, inplace=True)"
   ]
  },
  {
   "cell_type": "code",
   "execution_count": 12,
   "metadata": {},
   "outputs": [
    {
     "data": {
      "text/plain": [
       "0.9110307118929295"
      ]
     },
     "execution_count": 12,
     "metadata": {},
     "output_type": "execute_result"
    }
   ],
   "source": [
    "# Model to evaluate roof material\n",
    "mlr_model_roof = LinearRegression()\n",
    "mlr_model_roof.fit(df_roof.drop(columns=['SalePrice']), np.log10(df_roof['SalePrice']))\n",
    "mlr_model_roof.score(df_roof.drop(columns=['SalePrice']), np.log10(df_roof['SalePrice']))"
   ]
  },
  {
   "cell_type": "code",
   "execution_count": 13,
   "metadata": {},
   "outputs": [],
   "source": [
    "# Create a list of observations to predict the SalePrice (only house with WdShae and WdShngl)\n",
    "df_roof_test = df_roof[(df_roof['WdShngl']==1) | (df_roof['WdShake']==1)]\n",
    "df_roof_test.reset_index(drop=True, inplace=True)"
   ]
  },
  {
   "cell_type": "code",
   "execution_count": 14,
   "metadata": {
    "scrolled": true
   },
   "outputs": [
    {
     "name": "stdout",
     "output_type": "stream",
     "text": [
      "203526.99481187595  -  190000  =  13526.99481187595\n",
      "408806.2348396561  -  385000  =  23806.2348396561\n",
      "352754.0238223714  -  278000  =  74754.02382237138\n",
      "674276.2040086172  -  755000  =  -80723.7959913828\n",
      "207237.13545162432  -  192000  =  15237.135451624315\n",
      "302617.54035789525  -  292500  =  10117.540357895254\n",
      "283405.17778606154  -  279000  =  4405.17778606154\n",
      "270801.95340389886  -  280000  =  -9198.046596101136\n",
      "239344.33646652396  -  260000  =  -20655.663533476036\n",
      "378725.1986333993  -  475000  =  -96274.80136660067\n",
      "243346.85538759464  -  287500  =  -44153.14461240536\n",
      "178771.0252634896  -  168500  =  10271.025263489602\n",
      "244739.69457640135  -  242000  =  2739.694576401351\n",
      "241882.8654269205  -  228000  =  13882.8654269205\n"
     ]
    }
   ],
   "source": [
    "# Predict SalePrice (7 WdShake and 7 WdShngl)\n",
    "for i,y_hat in enumerate(mlr_model_roof.predict(df_roof_test.drop(columns='SalePrice'))):\n",
    "    print(10**y_hat,' - ', df_roof_test.loc[i,'SalePrice'],' = ', 10**y_hat - df_roof_test.loc[i,'SalePrice'])"
   ]
  },
  {
   "cell_type": "code",
   "execution_count": 15,
   "metadata": {},
   "outputs": [],
   "source": [
    "df_roof_test['WdShake']=0\n",
    "df_roof_test['WdShngl']=0\n",
    "df_roof_test['CompShg']=1"
   ]
  },
  {
   "cell_type": "code",
   "execution_count": 16,
   "metadata": {
    "scrolled": true
   },
   "outputs": [
    {
     "name": "stdout",
     "output_type": "stream",
     "text": [
      "209503.01402927993  -  190000  =  19503.014029279933\n",
      "375382.61146566115  -  385000  =  -9617.388534338854\n",
      "323913.17788829544  -  278000  =  45913.17788829544\n",
      "619147.9990738992  -  755000  =  -135852.00092610077\n",
      "213322.0929048771  -  192000  =  21322.092904877092\n",
      "311503.0851888102  -  292500  =  19003.08518881019\n",
      "260234.22999394502  -  279000  =  -18765.770006054983\n",
      "248661.43369518127  -  280000  =  -31338.566304818727\n",
      "246372.03495744325  -  260000  =  -13627.965042556752\n",
      "347760.9732312865  -  475000  =  -127239.02676871349\n",
      "250492.07701107158  -  287500  =  -37007.92298892842\n",
      "164154.86995721492  -  168500  =  -4345.13004278508\n",
      "251925.81315198413  -  242000  =  9925.813151984126\n",
      "248985.10094849407  -  228000  =  20985.100948494073\n"
     ]
    }
   ],
   "source": [
    "# Predict SalePrice (7 WdShake and 7 WdShngl)\n",
    "for i,y_hat in enumerate(mlr_model_roof.predict(df_roof_test.drop(columns='SalePrice'))):\n",
    "    print(10**y_hat,' - ', df_roof_test.loc[i,'SalePrice'],' = ', 10**y_hat - df_roof_test.loc[i,'SalePrice'])"
   ]
  },
  {
   "cell_type": "markdown",
   "metadata": {},
   "source": [
    "<hr>\n",
    "\n",
    "#### Fence Quality Evaluation<a class=\"anchor\" id=\"eval-fence\"></a>"
   ]
  },
  {
   "cell_type": "markdown",
   "metadata": {},
   "source": [
    "<p><strong>Fence Quality</strong></p>\n",
    "<table style=\"border-collapse: collapse; width: 44.472%; height: 103px;\" border=\"1\">\n",
    "<thead>\n",
    "<tr style=\"height: 18px;\">\n",
    "<td style=\"width: 8.16763%; border-style: ridge; text-align: center;\"><em><strong>Rating</strong></em></td>\n",
    "<td style=\"width: 8.26072%; height: 18px; border-style: ridge; text-align: center;\"><em><strong>Abbre</strong></em></td>\n",
    "<td style=\"width: 38.401%; height: 18px; border-style: ridge; text-align: center;\"><em><strong>Description</strong></em></td>\n",
    "</tr>\n",
    "</thead>\n",
    "<tbody>\n",
    "<tr style=\"height: 18px;\">\n",
    "<td style=\"width: 8.16763%; border-style: ridge; text-align: center;\">4</td>\n",
    "<td style=\"width: 8.26072%; height: 18px; border-style: ridge; text-align: center;\">GdPrv</td>\n",
    "<td style=\"width: 38.401%; height: 18px; border-style: ridge; text-align: left;\">&nbsp; Good Privacy</td>\n",
    "</tr>\n",
    "<tr style=\"height: 18px;\">\n",
    "<td style=\"width: 8.16763%; border-style: ridge; text-align: center;\">3</td>\n",
    "<td style=\"width: 8.26072%; height: 18px; border-style: ridge; text-align: center;\">MnPrv</td>\n",
    "<td style=\"width: 38.401%; height: 18px; border-style: ridge; text-align: left;\">&nbsp; Minimum Privacy</td>\n",
    "</tr>\n",
    "<tr style=\"height: 18px;\">\n",
    "<td style=\"width: 8.16763%; border-style: ridge; text-align: center;\">2</td>\n",
    "<td style=\"width: 8.26072%; height: 18px; border-style: ridge; text-align: center;\">GdWo</td>\n",
    "<td style=\"width: 38.401%; height: 18px; border-style: ridge; text-align: left;\">&nbsp; Good Wood</td>\n",
    "</tr>\n",
    "<tr style=\"height: 13px;\">\n",
    "<td style=\"width: 8.16763%; border-style: ridge; text-align: center;\">1</td>\n",
    "<td style=\"width: 8.26072%; height: 13px; border-style: ridge; text-align: center;\">MnWw</td>\n",
    "<td style=\"width: 38.401%; height: 13px; border-style: ridge; text-align: left;\">&nbsp; Minimum Wood/Wire</td>\n",
    "</tr>\n",
    "<tr style=\"height: 18px;\">\n",
    "<td style=\"width: 8.16763%; border-style: ridge; text-align: center;\">0</td>\n",
    "<td style=\"width: 8.26072%; height: 18px; border-style: ridge; text-align: center;\">NA</td>\n",
    "<td style=\"width: 38.401%; height: 18px; border-style: ridge; text-align: left;\">&nbsp; No Fence</td>\n",
    "</tr>\n",
    "</tbody>\n",
    "</table>"
   ]
  },
  {
   "cell_type": "code",
   "execution_count": 17,
   "metadata": {},
   "outputs": [],
   "source": [
    "roof_fence_dict = ({0:\"No Fence\",1:\"Minimum Wood/Wire\",2:\"Good Wood\",3:\"Minimum Privacy\",4:\"Good Privacy\"})"
   ]
  },
  {
   "cell_type": "markdown",
   "metadata": {},
   "source": [
    "#### Number of Houses with a Fence"
   ]
  },
  {
   "cell_type": "code",
   "execution_count": 18,
   "metadata": {},
   "outputs": [
    {
     "data": {
      "text/html": [
       "<style  type=\"text/css\" >\n",
       "</style><table id=\"T_d02aef9c_32a4_11eb_a8e7_acde48001122\" ><thead>    <tr>        <th class=\"col_heading level0 col0\" >Fence Rating</th>        <th class=\"col_heading level0 col1\" >Percentage of Houses</th>    </tr></thead><tbody>\n",
       "                <tr>\n",
       "                                <td id=\"T_d02aef9c_32a4_11eb_a8e7_acde48001122row0_col0\" class=\"data row0 col0\" >No Fence</td>\n",
       "                        <td id=\"T_d02aef9c_32a4_11eb_a8e7_acde48001122row0_col1\" class=\"data row0 col1\" >79.196022</td>\n",
       "            </tr>\n",
       "            <tr>\n",
       "                                <td id=\"T_d02aef9c_32a4_11eb_a8e7_acde48001122row1_col0\" class=\"data row1 col0\" >Minimum Wood/Wire</td>\n",
       "                        <td id=\"T_d02aef9c_32a4_11eb_a8e7_acde48001122row1_col1\" class=\"data row1 col1\" >0.414422</td>\n",
       "            </tr>\n",
       "            <tr>\n",
       "                                <td id=\"T_d02aef9c_32a4_11eb_a8e7_acde48001122row2_col0\" class=\"data row2 col0\" >Good Wood</td>\n",
       "                        <td id=\"T_d02aef9c_32a4_11eb_a8e7_acde48001122row2_col1\" class=\"data row2 col1\" >4.102777</td>\n",
       "            </tr>\n",
       "            <tr>\n",
       "                                <td id=\"T_d02aef9c_32a4_11eb_a8e7_acde48001122row3_col0\" class=\"data row3 col0\" >Minimum Privacy</td>\n",
       "                        <td id=\"T_d02aef9c_32a4_11eb_a8e7_acde48001122row3_col1\" class=\"data row3 col1\" >11.852466</td>\n",
       "            </tr>\n",
       "            <tr>\n",
       "                                <td id=\"T_d02aef9c_32a4_11eb_a8e7_acde48001122row4_col0\" class=\"data row4 col0\" >Good Privacy</td>\n",
       "                        <td id=\"T_d02aef9c_32a4_11eb_a8e7_acde48001122row4_col1\" class=\"data row4 col1\" >4.434314</td>\n",
       "            </tr>\n",
       "    </tbody></table>"
      ],
      "text/plain": [
       "<pandas.io.formats.style.Styler at 0x7fd085ab3250>"
      ]
     },
     "execution_count": 18,
     "metadata": {},
     "output_type": "execute_result"
    }
   ],
   "source": [
    "df_fence = (dataset.groupby('Fence').agg(count=pd.NamedAgg(column=\"Fence\", aggfunc=\"count\"))/dataset.shape[0]*100).reset_index()\n",
    "df_fence.columns=['Fence Rating','Percentage of Houses']\n",
    "df_fence['Fence Rating'].replace(roof_fence_dict, inplace=True)\n",
    "df_fence.style.hide_index()"
   ]
  },
  {
   "cell_type": "markdown",
   "metadata": {},
   "source": [
    "#### Trend since 1990"
   ]
  },
  {
   "cell_type": "code",
   "execution_count": 19,
   "metadata": {},
   "outputs": [
    {
     "data": {
      "text/html": [
       "<style  type=\"text/css\" >\n",
       "</style><table id=\"T_d02e822e_32a4_11eb_a8e7_acde48001122\" ><thead>    <tr>        <th class=\"col_heading level0 col0\" >Fence Rating</th>        <th class=\"col_heading level0 col1\" >Number of Houses</th>        <th class=\"col_heading level0 col2\" >Percentage of Houses</th>    </tr></thead><tbody>\n",
       "                <tr>\n",
       "                                <td id=\"T_d02e822e_32a4_11eb_a8e7_acde48001122row0_col0\" class=\"data row0 col0\" >No Fence</td>\n",
       "                        <td id=\"T_d02e822e_32a4_11eb_a8e7_acde48001122row0_col1\" class=\"data row0 col1\" >792</td>\n",
       "                        <td id=\"T_d02e822e_32a4_11eb_a8e7_acde48001122row0_col2\" class=\"data row0 col2\" >94.736842</td>\n",
       "            </tr>\n",
       "            <tr>\n",
       "                                <td id=\"T_d02e822e_32a4_11eb_a8e7_acde48001122row1_col0\" class=\"data row1 col0\" >Good Privacy</td>\n",
       "                        <td id=\"T_d02e822e_32a4_11eb_a8e7_acde48001122row1_col1\" class=\"data row1 col1\" >25</td>\n",
       "                        <td id=\"T_d02e822e_32a4_11eb_a8e7_acde48001122row1_col2\" class=\"data row1 col2\" >2.990431</td>\n",
       "            </tr>\n",
       "            <tr>\n",
       "                                <td id=\"T_d02e822e_32a4_11eb_a8e7_acde48001122row2_col0\" class=\"data row2 col0\" >Minimum Privacy</td>\n",
       "                        <td id=\"T_d02e822e_32a4_11eb_a8e7_acde48001122row2_col1\" class=\"data row2 col1\" >15</td>\n",
       "                        <td id=\"T_d02e822e_32a4_11eb_a8e7_acde48001122row2_col2\" class=\"data row2 col2\" >1.794258</td>\n",
       "            </tr>\n",
       "            <tr>\n",
       "                                <td id=\"T_d02e822e_32a4_11eb_a8e7_acde48001122row3_col0\" class=\"data row3 col0\" >Good Wood</td>\n",
       "                        <td id=\"T_d02e822e_32a4_11eb_a8e7_acde48001122row3_col1\" class=\"data row3 col1\" >4</td>\n",
       "                        <td id=\"T_d02e822e_32a4_11eb_a8e7_acde48001122row3_col2\" class=\"data row3 col2\" >0.478469</td>\n",
       "            </tr>\n",
       "    </tbody></table>"
      ],
      "text/plain": [
       "<pandas.io.formats.style.Styler at 0x7fd0859d5ac0>"
      ]
     },
     "execution_count": 19,
     "metadata": {},
     "output_type": "execute_result"
    }
   ],
   "source": [
    "df_fence_temp = dataset_encoded.copy()\n",
    "df_fence_temp = pd.concat([df_fence_temp.filter(model_features), dataset['Fence']],axis=1)\n",
    "df_fence_temp.Fence.replace(roof_fence_dict, inplace=True)\n",
    "temp=pd.DataFrame(df_fence_temp[df_fence_temp['YearBuilt']>=1990].groupby('Fence').size()).reset_index()\n",
    "temp.columns=['Fence Rating', 'Number of Houses']\n",
    "temp['Percentage of Houses']=temp['Number of Houses'] / temp['Number of Houses'].sum() * 100\n",
    "temp.sort_values(by='Percentage of Houses', ascending=False).style.hide_index()"
   ]
  },
  {
   "cell_type": "markdown",
   "metadata": {},
   "source": [
    "#### Using a Linear Model (Excluding No Fence Observations)"
   ]
  },
  {
   "cell_type": "markdown",
   "metadata": {},
   "source": [
    "#### MLR Model\n",
    "Including previously determined 7 features + 4 Features from Fence\n",
    "\n",
    "\n",
    "$\\hat{Y}\\;  =\\;  \\hat{\\beta}_{0}\\;  + \\; \\hat{\\beta}_{1}\\,log_{10}(GrLivArea)\\;  + \\; \\hat{\\beta}_{2}\\,(YearBuilt)\\; +\\; \\hat{\\beta}_{3}\\,(TotalBsmtSF)\\; +\\; \\hat{\\beta}_{4}\\,Log_{10}(LotArea)\\\\ \\;\\;\\;\\;\\;\\;\\;\\;\\;\\;\\;\\;\\;+ \\hat{\\beta}_{5}\\,(BsmtUnfSF)\\; +\\; \\hat{\\beta}_{6}\\,(OverallCond)\\; + \\;\\hat{\\beta}_{7}\\,(OverallQual)\\; +\\; \\hat{\\beta}_{6}\\,(\\color{blue}{Good Privacy})\\;\\\\\n",
    "\\;\\;\\;\\;\\;\\;\\;\\;\\;\\;\\;\\;\\;+ \\;\\hat{\\beta}_{7}\\,(\\color{blue}{Minimum Privacy})\\; +\\; \\hat{\\beta}_{6}\\,(\\color{blue}{Good Wood})\\; + \\;\\hat{\\beta}_{7}\\,(\\color{blue}{Minimum Wood/Wire})\\; +\\; \\epsilon $\n"
   ]
  },
  {
   "cell_type": "code",
   "execution_count": 20,
   "metadata": {},
   "outputs": [],
   "source": [
    "# df_fence_temp_test = pd.concat([df_fence_temp[df_fence_temp['Fence']!='No Fence'],\n",
    "#                                df_fence_temp[df_fence_temp['Fence']=='No Fence'].head(125)],\n",
    "#                               axis = 0)\n",
    "df_fence_temp_test = df_fence_temp[df_fence_temp['Fence']!='No Fence']\n",
    "df_fence_temp_test = pd.concat([df_fence_temp_test[model_features],\n",
    "                                pd.get_dummies(df_fence_temp_test['Fence'])],\n",
    "                               axis = 1)"
   ]
  },
  {
   "cell_type": "code",
   "execution_count": 21,
   "metadata": {},
   "outputs": [
    {
     "name": "stdout",
     "output_type": "stream",
     "text": [
      "R-squared:  0.8652079868146181\n"
     ]
    }
   ],
   "source": [
    "# Model to evaluate roof material\n",
    "mlr_model_fence = LinearRegression()\n",
    "mlr_model_fence.fit(df_fence_temp_test.drop(columns=['SalePrice']), np.log10(df_fence_temp_test['SalePrice']))\n",
    "print(\"R-squared: \", mlr_model_fence.score(df_fence_temp_test.drop(columns=['SalePrice']), np.log10(df_fence_temp_test['SalePrice'])))\n"
   ]
  },
  {
   "cell_type": "code",
   "execution_count": 22,
   "metadata": {},
   "outputs": [],
   "source": [
    "# for i, feature in enumerate(df_fence_temp_test.drop(columns=['SalePrice']).columns):\n",
    "#    print(feature,' - ',np.round(mlr_model_fence.coef_[i],4))\n",
    "    "
   ]
  },
  {
   "cell_type": "code",
   "execution_count": 23,
   "metadata": {},
   "outputs": [],
   "source": [
    "# 5 record for each fence type. Total = 20\n",
    "df_fence_temp_test = pd.concat([df_fence_temp_test[df_fence_temp_test['Minimum Wood/Wire']==1].head(5),\n",
    "           df_fence_temp_test[df_fence_temp_test['Good Wood']==1].head(5),\n",
    "           df_fence_temp_test[df_fence_temp_test['Good Privacy']==1].head(5),\n",
    "           df_fence_temp_test[df_fence_temp_test['Minimum Privacy']==1].head(5)],\n",
    "           #df_fence_temp_test[df_fence_temp_test['No Fence']==1].head(5)],\n",
    "          axis=0)\n",
    "df_fence_temp_test.reset_index(drop=True,inplace=True)"
   ]
  },
  {
   "cell_type": "code",
   "execution_count": 24,
   "metadata": {},
   "outputs": [],
   "source": [
    "fence_values = {}\n",
    "temp_list = []\n",
    "#df_fence_temp_test['No Fence']=1\n",
    "#df_fence_temp_test['Minimum Wood/Wire']=0\n",
    "#df_fence_temp_test['Good Wood']=0\n",
    "#df_fence_temp_test['Minimum Privacy']=0\n",
    "#df_fence_temp_test['Good Privacy']=0\n",
    "#for i, coef_ in enumerate(mlr_model_fence.predict(df_fence_temp_test.drop(columns=['SalePrice']))):\n",
    "#    temp_list.append(int(10**coef_))\n",
    "#fence_values['No Fence']=temp_list"
   ]
  },
  {
   "cell_type": "code",
   "execution_count": 25,
   "metadata": {},
   "outputs": [],
   "source": [
    "df_fence_temp_test['Minimum Wood/Wire']=1\n",
    "df_fence_temp_test['Good Wood']=0\n",
    "df_fence_temp_test['Minimum Privacy']=0\n",
    "df_fence_temp_test['Good Privacy']=0\n",
    "temp_list = []\n",
    "for i, coef_ in enumerate(mlr_model_fence.predict(df_fence_temp_test.drop(columns=['SalePrice']))):\n",
    "    temp_list.append(int(10**coef_))\n",
    "fence_values['Minimum Wood/Wire']=temp_list"
   ]
  },
  {
   "cell_type": "code",
   "execution_count": 26,
   "metadata": {},
   "outputs": [],
   "source": [
    "df_fence_temp_test['Good Wood']=1\n",
    "df_fence_temp_test['Minimum Wood/Wire']=0\n",
    "temp_list = []\n",
    "for i, coef_ in enumerate(mlr_model_fence.predict(df_fence_temp_test.drop(columns=['SalePrice']))):\n",
    "    temp_list.append(int(10**coef_))\n",
    "fence_values['Good Wood']=temp_list"
   ]
  },
  {
   "cell_type": "code",
   "execution_count": 27,
   "metadata": {},
   "outputs": [],
   "source": [
    "df_fence_temp_test['Good Wood']=0\n",
    "df_fence_temp_test['Minimum Privacy']=1\n",
    "temp_list = []\n",
    "for i, coef_ in enumerate(mlr_model_fence.predict(df_fence_temp_test.drop(columns=['SalePrice']))):\n",
    "    temp_list.append(int(10**coef_))\n",
    "fence_values['Minimum Privacy']=temp_list"
   ]
  },
  {
   "cell_type": "code",
   "execution_count": 28,
   "metadata": {},
   "outputs": [],
   "source": [
    "df_fence_temp_test['Minimum Privacy']=0\n",
    "df_fence_temp_test['Good Privacy']=1\n",
    "temp_list = []\n",
    "for i, coef_ in enumerate(mlr_model_fence.predict(df_fence_temp_test.drop(columns=['SalePrice']))):\n",
    "    temp_list.append(int(10**coef_))\n",
    "fence_values['Good Privacy']=temp_list"
   ]
  },
  {
   "cell_type": "markdown",
   "metadata": {},
   "source": [
    "#### Predicted Sale Price for 20 Houses with Fences."
   ]
  },
  {
   "cell_type": "code",
   "execution_count": 29,
   "metadata": {},
   "outputs": [
    {
     "data": {
      "text/html": [
       "<style  type=\"text/css\" >\n",
       "</style><table id=\"T_d040b746_32a4_11eb_a8e7_acde48001122\" ><thead>    <tr>        <th class=\"col_heading level0 col0\" >Minimum Wood/Wire</th>        <th class=\"col_heading level0 col1\" >Good Wood</th>        <th class=\"col_heading level0 col2\" >Minimum Privacy</th>        <th class=\"col_heading level0 col3\" >Good Privacy</th>    </tr></thead><tbody>\n",
       "                <tr>\n",
       "                                <td id=\"T_d040b746_32a4_11eb_a8e7_acde48001122row0_col0\" class=\"data row0 col0\" >132486</td>\n",
       "                        <td id=\"T_d040b746_32a4_11eb_a8e7_acde48001122row0_col1\" class=\"data row0 col1\" >136309</td>\n",
       "                        <td id=\"T_d040b746_32a4_11eb_a8e7_acde48001122row0_col2\" class=\"data row0 col2\" >136380</td>\n",
       "                        <td id=\"T_d040b746_32a4_11eb_a8e7_acde48001122row0_col3\" class=\"data row0 col3\" >139268</td>\n",
       "            </tr>\n",
       "            <tr>\n",
       "                                <td id=\"T_d040b746_32a4_11eb_a8e7_acde48001122row1_col0\" class=\"data row1 col0\" >112295</td>\n",
       "                        <td id=\"T_d040b746_32a4_11eb_a8e7_acde48001122row1_col1\" class=\"data row1 col1\" >115536</td>\n",
       "                        <td id=\"T_d040b746_32a4_11eb_a8e7_acde48001122row1_col2\" class=\"data row1 col2\" >115596</td>\n",
       "                        <td id=\"T_d040b746_32a4_11eb_a8e7_acde48001122row1_col3\" class=\"data row1 col3\" >118044</td>\n",
       "            </tr>\n",
       "            <tr>\n",
       "                                <td id=\"T_d040b746_32a4_11eb_a8e7_acde48001122row2_col0\" class=\"data row2 col0\" >117293</td>\n",
       "                        <td id=\"T_d040b746_32a4_11eb_a8e7_acde48001122row2_col1\" class=\"data row2 col1\" >120678</td>\n",
       "                        <td id=\"T_d040b746_32a4_11eb_a8e7_acde48001122row2_col2\" class=\"data row2 col2\" >120741</td>\n",
       "                        <td id=\"T_d040b746_32a4_11eb_a8e7_acde48001122row2_col3\" class=\"data row2 col3\" >123298</td>\n",
       "            </tr>\n",
       "            <tr>\n",
       "                                <td id=\"T_d040b746_32a4_11eb_a8e7_acde48001122row3_col0\" class=\"data row3 col0\" >154103</td>\n",
       "                        <td id=\"T_d040b746_32a4_11eb_a8e7_acde48001122row3_col1\" class=\"data row3 col1\" >158550</td>\n",
       "                        <td id=\"T_d040b746_32a4_11eb_a8e7_acde48001122row3_col2\" class=\"data row3 col2\" >158633</td>\n",
       "                        <td id=\"T_d040b746_32a4_11eb_a8e7_acde48001122row3_col3\" class=\"data row3 col3\" >161992</td>\n",
       "            </tr>\n",
       "            <tr>\n",
       "                                <td id=\"T_d040b746_32a4_11eb_a8e7_acde48001122row4_col0\" class=\"data row4 col0\" >132607</td>\n",
       "                        <td id=\"T_d040b746_32a4_11eb_a8e7_acde48001122row4_col1\" class=\"data row4 col1\" >136434</td>\n",
       "                        <td id=\"T_d040b746_32a4_11eb_a8e7_acde48001122row4_col2\" class=\"data row4 col2\" >136505</td>\n",
       "                        <td id=\"T_d040b746_32a4_11eb_a8e7_acde48001122row4_col3\" class=\"data row4 col3\" >139395</td>\n",
       "            </tr>\n",
       "            <tr>\n",
       "                                <td id=\"T_d040b746_32a4_11eb_a8e7_acde48001122row5_col0\" class=\"data row5 col0\" >139400</td>\n",
       "                        <td id=\"T_d040b746_32a4_11eb_a8e7_acde48001122row5_col1\" class=\"data row5 col1\" >143422</td>\n",
       "                        <td id=\"T_d040b746_32a4_11eb_a8e7_acde48001122row5_col2\" class=\"data row5 col2\" >143497</td>\n",
       "                        <td id=\"T_d040b746_32a4_11eb_a8e7_acde48001122row5_col3\" class=\"data row5 col3\" >146536</td>\n",
       "            </tr>\n",
       "            <tr>\n",
       "                                <td id=\"T_d040b746_32a4_11eb_a8e7_acde48001122row6_col0\" class=\"data row6 col0\" >67098</td>\n",
       "                        <td id=\"T_d040b746_32a4_11eb_a8e7_acde48001122row6_col1\" class=\"data row6 col1\" >69034</td>\n",
       "                        <td id=\"T_d040b746_32a4_11eb_a8e7_acde48001122row6_col2\" class=\"data row6 col2\" >69070</td>\n",
       "                        <td id=\"T_d040b746_32a4_11eb_a8e7_acde48001122row6_col3\" class=\"data row6 col3\" >70533</td>\n",
       "            </tr>\n",
       "            <tr>\n",
       "                                <td id=\"T_d040b746_32a4_11eb_a8e7_acde48001122row7_col0\" class=\"data row7 col0\" >149418</td>\n",
       "                        <td id=\"T_d040b746_32a4_11eb_a8e7_acde48001122row7_col1\" class=\"data row7 col1\" >153730</td>\n",
       "                        <td id=\"T_d040b746_32a4_11eb_a8e7_acde48001122row7_col2\" class=\"data row7 col2\" >153810</td>\n",
       "                        <td id=\"T_d040b746_32a4_11eb_a8e7_acde48001122row7_col3\" class=\"data row7 col3\" >157067</td>\n",
       "            </tr>\n",
       "            <tr>\n",
       "                                <td id=\"T_d040b746_32a4_11eb_a8e7_acde48001122row8_col0\" class=\"data row8 col0\" >168696</td>\n",
       "                        <td id=\"T_d040b746_32a4_11eb_a8e7_acde48001122row8_col1\" class=\"data row8 col1\" >173564</td>\n",
       "                        <td id=\"T_d040b746_32a4_11eb_a8e7_acde48001122row8_col2\" class=\"data row8 col2\" >173655</td>\n",
       "                        <td id=\"T_d040b746_32a4_11eb_a8e7_acde48001122row8_col3\" class=\"data row8 col3\" >177332</td>\n",
       "            </tr>\n",
       "            <tr>\n",
       "                                <td id=\"T_d040b746_32a4_11eb_a8e7_acde48001122row9_col0\" class=\"data row9 col0\" >126707</td>\n",
       "                        <td id=\"T_d040b746_32a4_11eb_a8e7_acde48001122row9_col1\" class=\"data row9 col1\" >130364</td>\n",
       "                        <td id=\"T_d040b746_32a4_11eb_a8e7_acde48001122row9_col2\" class=\"data row9 col2\" >130432</td>\n",
       "                        <td id=\"T_d040b746_32a4_11eb_a8e7_acde48001122row9_col3\" class=\"data row9 col3\" >133194</td>\n",
       "            </tr>\n",
       "            <tr>\n",
       "                                <td id=\"T_d040b746_32a4_11eb_a8e7_acde48001122row10_col0\" class=\"data row10 col0\" >150036</td>\n",
       "                        <td id=\"T_d040b746_32a4_11eb_a8e7_acde48001122row10_col1\" class=\"data row10 col1\" >154366</td>\n",
       "                        <td id=\"T_d040b746_32a4_11eb_a8e7_acde48001122row10_col2\" class=\"data row10 col2\" >154446</td>\n",
       "                        <td id=\"T_d040b746_32a4_11eb_a8e7_acde48001122row10_col3\" class=\"data row10 col3\" >157717</td>\n",
       "            </tr>\n",
       "            <tr>\n",
       "                                <td id=\"T_d040b746_32a4_11eb_a8e7_acde48001122row11_col0\" class=\"data row11 col0\" >245661</td>\n",
       "                        <td id=\"T_d040b746_32a4_11eb_a8e7_acde48001122row11_col1\" class=\"data row11 col1\" >252750</td>\n",
       "                        <td id=\"T_d040b746_32a4_11eb_a8e7_acde48001122row11_col2\" class=\"data row11 col2\" >252882</td>\n",
       "                        <td id=\"T_d040b746_32a4_11eb_a8e7_acde48001122row11_col3\" class=\"data row11 col3\" >258237</td>\n",
       "            </tr>\n",
       "            <tr>\n",
       "                                <td id=\"T_d040b746_32a4_11eb_a8e7_acde48001122row12_col0\" class=\"data row12 col0\" >143157</td>\n",
       "                        <td id=\"T_d040b746_32a4_11eb_a8e7_acde48001122row12_col1\" class=\"data row12 col1\" >147288</td>\n",
       "                        <td id=\"T_d040b746_32a4_11eb_a8e7_acde48001122row12_col2\" class=\"data row12 col2\" >147365</td>\n",
       "                        <td id=\"T_d040b746_32a4_11eb_a8e7_acde48001122row12_col3\" class=\"data row12 col3\" >150486</td>\n",
       "            </tr>\n",
       "            <tr>\n",
       "                                <td id=\"T_d040b746_32a4_11eb_a8e7_acde48001122row13_col0\" class=\"data row13 col0\" >384087</td>\n",
       "                        <td id=\"T_d040b746_32a4_11eb_a8e7_acde48001122row13_col1\" class=\"data row13 col1\" >395170</td>\n",
       "                        <td id=\"T_d040b746_32a4_11eb_a8e7_acde48001122row13_col2\" class=\"data row13 col2\" >395377</td>\n",
       "                        <td id=\"T_d040b746_32a4_11eb_a8e7_acde48001122row13_col3\" class=\"data row13 col3\" >403749</td>\n",
       "            </tr>\n",
       "            <tr>\n",
       "                                <td id=\"T_d040b746_32a4_11eb_a8e7_acde48001122row14_col0\" class=\"data row14 col0\" >215308</td>\n",
       "                        <td id=\"T_d040b746_32a4_11eb_a8e7_acde48001122row14_col1\" class=\"data row14 col1\" >221521</td>\n",
       "                        <td id=\"T_d040b746_32a4_11eb_a8e7_acde48001122row14_col2\" class=\"data row14 col2\" >221637</td>\n",
       "                        <td id=\"T_d040b746_32a4_11eb_a8e7_acde48001122row14_col3\" class=\"data row14 col3\" >226330</td>\n",
       "            </tr>\n",
       "            <tr>\n",
       "                                <td id=\"T_d040b746_32a4_11eb_a8e7_acde48001122row15_col0\" class=\"data row15 col0\" >184565</td>\n",
       "                        <td id=\"T_d040b746_32a4_11eb_a8e7_acde48001122row15_col1\" class=\"data row15 col1\" >189891</td>\n",
       "                        <td id=\"T_d040b746_32a4_11eb_a8e7_acde48001122row15_col2\" class=\"data row15 col2\" >189990</td>\n",
       "                        <td id=\"T_d040b746_32a4_11eb_a8e7_acde48001122row15_col3\" class=\"data row15 col3\" >194013</td>\n",
       "            </tr>\n",
       "            <tr>\n",
       "                                <td id=\"T_d040b746_32a4_11eb_a8e7_acde48001122row16_col0\" class=\"data row16 col0\" >100913</td>\n",
       "                        <td id=\"T_d040b746_32a4_11eb_a8e7_acde48001122row16_col1\" class=\"data row16 col1\" >103825</td>\n",
       "                        <td id=\"T_d040b746_32a4_11eb_a8e7_acde48001122row16_col2\" class=\"data row16 col2\" >103879</td>\n",
       "                        <td id=\"T_d040b746_32a4_11eb_a8e7_acde48001122row16_col3\" class=\"data row16 col3\" >106079</td>\n",
       "            </tr>\n",
       "            <tr>\n",
       "                                <td id=\"T_d040b746_32a4_11eb_a8e7_acde48001122row17_col0\" class=\"data row17 col0\" >103701</td>\n",
       "                        <td id=\"T_d040b746_32a4_11eb_a8e7_acde48001122row17_col1\" class=\"data row17 col1\" >106694</td>\n",
       "                        <td id=\"T_d040b746_32a4_11eb_a8e7_acde48001122row17_col2\" class=\"data row17 col2\" >106750</td>\n",
       "                        <td id=\"T_d040b746_32a4_11eb_a8e7_acde48001122row17_col3\" class=\"data row17 col3\" >109010</td>\n",
       "            </tr>\n",
       "            <tr>\n",
       "                                <td id=\"T_d040b746_32a4_11eb_a8e7_acde48001122row18_col0\" class=\"data row18 col0\" >152364</td>\n",
       "                        <td id=\"T_d040b746_32a4_11eb_a8e7_acde48001122row18_col1\" class=\"data row18 col1\" >156760</td>\n",
       "                        <td id=\"T_d040b746_32a4_11eb_a8e7_acde48001122row18_col2\" class=\"data row18 col2\" >156842</td>\n",
       "                        <td id=\"T_d040b746_32a4_11eb_a8e7_acde48001122row18_col3\" class=\"data row18 col3\" >160164</td>\n",
       "            </tr>\n",
       "            <tr>\n",
       "                                <td id=\"T_d040b746_32a4_11eb_a8e7_acde48001122row19_col0\" class=\"data row19 col0\" >129441</td>\n",
       "                        <td id=\"T_d040b746_32a4_11eb_a8e7_acde48001122row19_col1\" class=\"data row19 col1\" >133176</td>\n",
       "                        <td id=\"T_d040b746_32a4_11eb_a8e7_acde48001122row19_col2\" class=\"data row19 col2\" >133245</td>\n",
       "                        <td id=\"T_d040b746_32a4_11eb_a8e7_acde48001122row19_col3\" class=\"data row19 col3\" >136067</td>\n",
       "            </tr>\n",
       "    </tbody></table>"
      ],
      "text/plain": [
       "<pandas.io.formats.style.Styler at 0x7fd085ab9e80>"
      ]
     },
     "execution_count": 29,
     "metadata": {},
     "output_type": "execute_result"
    }
   ],
   "source": [
    "results = pd.DataFrame(fence_values)\n",
    "results.style.hide_index()"
   ]
  },
  {
   "cell_type": "code",
   "execution_count": 30,
   "metadata": {},
   "outputs": [],
   "source": [
    "data=pd.DataFrame(results.mean()).reset_index()\n",
    "data.columns=['FenceRating','AverageSalePrice']\n",
    "#data['PercentageChange'] = (data['AverageSalePrice'].pct_change() * 100).fillna(0)"
   ]
  },
  {
   "cell_type": "code",
   "execution_count": 31,
   "metadata": {},
   "outputs": [
    {
     "data": {
      "text/html": [
       "<style  type=\"text/css\" >\n",
       "</style><table id=\"T_d04335b6_32a4_11eb_a8e7_acde48001122\" ><thead>    <tr>        <th class=\"col_heading level0 col0\" >FenceRating</th>        <th class=\"col_heading level0 col1\" >AverageSalePrice</th>    </tr></thead><tbody>\n",
       "                <tr>\n",
       "                                <td id=\"T_d04335b6_32a4_11eb_a8e7_acde48001122row0_col0\" class=\"data row0 col0\" >Minimum Wood/Wire</td>\n",
       "                        <td id=\"T_d04335b6_32a4_11eb_a8e7_acde48001122row0_col1\" class=\"data row0 col1\" >155466.800000</td>\n",
       "            </tr>\n",
       "            <tr>\n",
       "                                <td id=\"T_d04335b6_32a4_11eb_a8e7_acde48001122row1_col0\" class=\"data row1 col0\" >Good Wood</td>\n",
       "                        <td id=\"T_d04335b6_32a4_11eb_a8e7_acde48001122row1_col1\" class=\"data row1 col1\" >159953.100000</td>\n",
       "            </tr>\n",
       "            <tr>\n",
       "                                <td id=\"T_d04335b6_32a4_11eb_a8e7_acde48001122row2_col0\" class=\"data row2 col0\" >Minimum Privacy</td>\n",
       "                        <td id=\"T_d04335b6_32a4_11eb_a8e7_acde48001122row2_col1\" class=\"data row2 col1\" >160036.600000</td>\n",
       "            </tr>\n",
       "            <tr>\n",
       "                                <td id=\"T_d04335b6_32a4_11eb_a8e7_acde48001122row3_col0\" class=\"data row3 col0\" >Good Privacy</td>\n",
       "                        <td id=\"T_d04335b6_32a4_11eb_a8e7_acde48001122row3_col1\" class=\"data row3 col1\" >163425.550000</td>\n",
       "            </tr>\n",
       "    </tbody></table>"
      ],
      "text/plain": [
       "<pandas.io.formats.style.Styler at 0x7fd085ab99d0>"
      ]
     },
     "execution_count": 31,
     "metadata": {},
     "output_type": "execute_result"
    }
   ],
   "source": [
    "data.style.hide_index()"
   ]
  },
  {
   "cell_type": "code",
   "execution_count": 32,
   "metadata": {},
   "outputs": [
    {
     "data": {
      "text/plain": [
       "0    0.000000\n",
       "1    2.885696\n",
       "2    0.052203\n",
       "3    2.117609\n",
       "Name: AverageSalePrice, dtype: float64"
      ]
     },
     "execution_count": 32,
     "metadata": {},
     "output_type": "execute_result"
    }
   ],
   "source": [
    "(data['AverageSalePrice'].pct_change() * 100).fillna(0)"
   ]
  },
  {
   "cell_type": "code",
   "execution_count": 33,
   "metadata": {},
   "outputs": [
    {
     "data": {
      "text/plain": [
       "<matplotlib.axes._subplots.AxesSubplot at 0x7fd085a1b580>"
      ]
     },
     "execution_count": 33,
     "metadata": {},
     "output_type": "execute_result"
    },
    {
     "data": {
      "image/png": "[encoded data removed]",
      "text/plain": [
       "<Figure size 576x432 with 1 Axes>"
      ]
     },
     "metadata": {
      "needs_background": "light"
     },
     "output_type": "display_data"
    }
   ],
   "source": [
    "data=pd.DataFrame(results.mean()).reset_index()\n",
    "data.columns=['FenceRating','AverageSalePrice']\n",
    "data['PercentageChange'] = (data['AverageSalePrice'].pct_change() * 100).fillna(0)\n",
    "fig, ax = plt.subplots(figsize=(8,6))\n",
    "ax.set_ylim([150000,170000])\n",
    "sns_plot = sns.barplot(x='FenceRating', y='AverageSalePrice', data=data, ax=ax)\n",
    "ax.set(xlabel='Fence Ratings',ylabel='Average Sale Price')#, title=\"Average Sale Price of Houses with a Fence\")\n",
    "for index, row in data.iterrows():\n",
    "    sns_plot.text(row.name,row.AverageSalePrice, str(round(row.PercentageChange,2))+\"%\", color='black', ha=\"center\", va=\"bottom\")\n",
    "\n",
    "sns.lineplot(x='FenceRating', y='PercentageChange', data=data, ax=ax)\n",
    "\n",
    "    "
   ]
  },
  {
   "cell_type": "markdown",
   "metadata": {},
   "source": [
    "#### Conclusion:\n",
    "<ul>\n",
    "<li>It is not possible given the data to determine how much value would be added to a house by installing a new fence. 80% of the houses in the dataset do not have fences.</li>\n",
    "<li>If we take a look at only those houses with a fence we can see a trend:\n",
    "<ul>\n",
    "<li>Houses with Minimum Wood/Wire fences have the lowest values among houses with a fence.</li>\n",
    "<li>Replacing a Minimum Wood/Wire fence with a Good Wood or Minimum Privacy fence can yield almost a 3% increase in the value of the house.</li>\n",
    "<li>The best gains were observed when a Minimum Wood/Wire fence was replaced by a Good Privacy fence, a ~5% increase in the value of the house. For example, a house priced at $150,000.00 with a Minimum Wood/Wire fence, according to the data available, can increase its sale price to \\$157,500.00 by replacing the existing fence for a Good Privacy fence.</li>\n",
    "</ul>\n",
    "</li>\n",
    "<li>It is clear from the data that most houses do not have a fence. Adding a fence to a house that does not have one may not be recommended and should be considered case by case.&nbsp;</li>\n",
    "</ul>"
   ]
  }
 ],
 "metadata": {
  "hide_input": false,
  "kernelspec": {
   "display_name": "Python 3",
   "language": "python",
   "name": "python3"
  },
  "language_info": {
   "codemirror_mode": {
    "name": "ipython",
    "version": 3
   },
   "file_extension": ".py",
   "mimetype": "text/x-python",
   "name": "python",
   "nbconvert_exporter": "python",
   "pygments_lexer": "ipython3",
   "version": "3.8.3"
  }
 },
 "nbformat": 4,
 "nbformat_minor": 4
}
