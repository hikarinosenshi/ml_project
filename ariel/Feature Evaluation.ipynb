{
 "cells": [
  {
   "cell_type": "markdown",
   "metadata": {},
   "source": [
    "## Feature Evaluation\n",
    "<hr style=\"height:1px;border:none;color:#333;background-color:#333;\" />\n"
   ]
  },
  {
   "cell_type": "markdown",
   "metadata": {},
   "source": [
    "## Table of Contents\n",
    "\n",
    "* [1.1 Environment Setup](#env-setup)\n",
    "    * [1.1.1 Importing Modules](#imports)\n",
    "    * [1.1.2 Display Settings](#display-setup)\n",
    "    * [1.1.3 Load Data](#read-file)\n",
    "    * [1.1.4 Model Features](#features)\n",
    "<br><br>\n",
    "* [1.2 Evaluation of Features](#eval-section)\n",
    "    * [1.2.1 Roof Material Evaluation](#eval-roof)\n",
    "    * [1.2.2 Fence Quality Evaluation](#eval-fence)\n",
    "    * [1.2.3 Overal Quality Evaluation](#eval-overall)"
   ]
  },
  {
   "cell_type": "markdown",
   "metadata": {},
   "source": [
    "### 1.1 Environment Setup  <a class=\"anchor\" id=\"env-setup\"></a>"
   ]
  },
  {
   "cell_type": "markdown",
   "metadata": {},
   "source": [
    "#### 1.1.1 Importing Modules<a class=\"anchor\" id=\"imports\"></a>"
   ]
  },
  {
   "cell_type": "code",
   "execution_count": 1,
   "metadata": {},
   "outputs": [],
   "source": [
    "# import modules\n",
    "from sklearn.linear_model import LinearRegression, Lasso, LassoCV\n",
    "from sklearn.preprocessing import MinMaxScaler\n",
    "from sklearn.metrics import confusion_matrix\n",
    "from sklearn.model_selection import train_test_split\n",
    "import warnings\n",
    "import statsmodels.formula.api as smf\n",
    "from scipy import stats\n",
    "import math\n",
    "import pandas as pd\n",
    "import numpy as np\n",
    "import seaborn as sns\n",
    "import matplotlib.pyplot as plt\n",
    "%matplotlib inline\n",
    "warnings.filterwarnings(\"ignore\")"
   ]
  },
  {
   "cell_type": "markdown",
   "metadata": {},
   "source": [
    "#### 1.1.2 Display Settings<a class=\"anchor\" id=\"display-setup\"></a>"
   ]
  },
  {
   "cell_type": "code",
   "execution_count": 2,
   "metadata": {},
   "outputs": [],
   "source": [
    "pd.set_option('display.max_columns', None) # display all the columns of a dataframe\n",
    "pd.set_option('display.max_rows', 100)     # display 100 rows of a dataframe"
   ]
  },
  {
   "cell_type": "markdown",
   "metadata": {},
   "source": [
    "#### 1.1.3 Load data<a class=\"anchor\" id=\"read-file\"></a>"
   ]
  },
  {
   "cell_type": "code",
   "execution_count": 4,
   "metadata": {},
   "outputs": [],
   "source": [
    "# Load cleaned data - see \"Data Cleansing.ipynb\"\n",
    "dataset = pd.read_csv('../ariel/Prep_Data.csv')\n",
    "dataset_encoded = pd.read_csv('../ariel/Data_Encoded.csv')"
   ]
  },
  {
   "cell_type": "markdown",
   "metadata": {},
   "source": [
    "#### 1.1.4 Features for Model (Including Target Variable)<a class=\"anchor\" id=\"features\"></a>"
   ]
  },
  {
   "cell_type": "code",
   "execution_count": 44,
   "metadata": {},
   "outputs": [],
   "source": [
    "model_features = ['SalePrice','TotalBsmtSF', 'OverallQual', 'YearBuilt', 'log10_GrLivArea', 'OverallCond', 'log10_LotArea', 'BsmtUnfSF']"
   ]
  },
  {
   "cell_type": "markdown",
   "metadata": {},
   "source": [
    "<br><br>\n",
    "<hr style=\"height:1px;border:none;color:#333;background-color:#333;\" />\n",
    "\n",
    "### 1.5 Evaluating Overall Quality, Fence, and Roof<a class=\"anchor\" id=\"eval-section\"></a>"
   ]
  },
  {
   "cell_type": "markdown",
   "metadata": {},
   "source": [
    "#### 1.2.1 Evaluation Roof Material<a class=\"anchor\" id=\"eval-roof\"></a>"
   ]
  },
  {
   "cell_type": "markdown",
   "metadata": {},
   "source": [
    "<h4>Roof material</h4>\n",
    "<p>&nbsp;</p>\n",
    "<table style=\"border-collapse: collapse; width: 46.0227%; height: 162px;\" border=\"1\">\n",
    "<thead>\n",
    "<tr style=\"border-style: ridge; height: 18px;\">\n",
    "<td style=\"width: 3.50375%; height: 18px; border-style: ridge;\">Abbreviation</td>\n",
    "<td style=\"width: 9.18553%; height: 18px; border-style: ridge;\">Material</td>\n",
    "</tr>\n",
    "</thead>\n",
    "<tbody>\n",
    "<tr style=\"height: 18px;\">\n",
    "<td style=\"width: 3.50375%; height: 18px; border-style: ridge;\">ClyTile</td>\n",
    "<td style=\"width: 9.18553%; height: 18px; border-style: ridge;\">Clay or Tile</td>\n",
    "</tr>\n",
    "<tr style=\"height: 18px;\">\n",
    "<td style=\"width: 3.50375%; height: 18px; border-style: ridge;\">CompShg</td>\n",
    "<td style=\"width: 9.18553%; height: 18px; border-style: ridge;\">Standard (Composite) Shingle</td>\n",
    "</tr>\n",
    "<tr style=\"height: 18px;\">\n",
    "<td style=\"width: 3.50375%; height: 18px; border-style: ridge;\">Membran</td>\n",
    "<td style=\"width: 9.18553%; height: 18px; border-style: ridge;\">Membrane</td>\n",
    "</tr>\n",
    "<tr style=\"height: 18px;\">\n",
    "<td style=\"width: 3.50375%; height: 18px; border-style: ridge;\">Metal</td>\n",
    "<td style=\"width: 9.18553%; height: 18px; border-style: ridge;\">Metal</td>\n",
    "</tr>\n",
    "<tr style=\"height: 18px;\">\n",
    "<td style=\"width: 3.50375%; height: 18px; border-style: ridge;\">Roll</td>\n",
    "<td style=\"width: 9.18553%; height: 18px; border-style: ridge;\">Roll</td>\n",
    "</tr>\n",
    "<tr style=\"height: 18px;\">\n",
    "<td style=\"width: 3.50375%; height: 18px; border-style: ridge;\">Tar&amp;Grv</td>\n",
    "<td style=\"width: 9.18553%; height: 18px; border-style: ridge;\">Gravel &amp; Tar</td>\n",
    "</tr>\n",
    "<tr style=\"height: 18px;\">\n",
    "<td style=\"width: 3.50375%; height: 18px; border-style: ridge;\">WdShake</td>\n",
    "<td style=\"width: 9.18553%; height: 18px; border-style: ridge;\">Wood Shakes</td>\n",
    "</tr>\n",
    "<tr style=\"height: 18px;\">\n",
    "<td style=\"width: 3.50375%; height: 18px; border-style: ridge;\">WdShngl</td>\n",
    "<td style=\"width: 9.18553%; height: 18px; border-style: ridge;\">Wood Shingles</td>\n",
    "</tr>\n",
    "</tbody>\n",
    "</table>"
   ]
  },
  {
   "cell_type": "code",
   "execution_count": 6,
   "metadata": {
    "hide_input": true
   },
   "outputs": [],
   "source": [
    "roof_matl_dict = ({\"ClyTile\":\"Clay or Tile\",\"CompShg\":\"Standard (Composite) Shingle\",\"Membran\":\"Membrane\",\n",
    "                   \"Metal\":\"Metal\",\"Roll\":\"Roll\",\"Tar&Grv\":\"Gravel & Tar\",\"WdShake\":\"Wood Shakes\",\n",
    "                   \"WdShngl\":\"Wood Shingles\",})"
   ]
  },
  {
   "cell_type": "code",
   "execution_count": 14,
   "metadata": {
    "hide_input": true
   },
   "outputs": [],
   "source": [
    "roofmatl_count = dataset.groupby(['RoofMatl']).agg({\"RoofMatl\":\"count\"})\n",
    "roofmatl_count.columns = ['Number of Houses']\n",
    "roofmatl_count['Percentage of Houses'] = roofmatl_count['Number of Houses']/dataset.shape[0]*100\n",
    "roofmatl_count.reset_index(inplace=True)\n",
    "roofmatl_count.columns=[\"Roof Material\",'Number of Houses','Percentage of Houses']\n",
    "roofmatl_count['Roof Material'].replace(roof_matl_dict, inplace=True)"
   ]
  },
  {
   "cell_type": "code",
   "execution_count": 26,
   "metadata": {
    "hide_input": true
   },
   "outputs": [
    {
     "data": {
      "text/html": [
       "<style  type=\"text/css\" >\n",
       "    #T_4697d24c_31ad_11eb_b459_acde48001122row0_col2 {\n",
       "            color:  black;\n",
       "        }    #T_4697d24c_31ad_11eb_b459_acde48001122row1_col2 {\n",
       "            color:  red;\n",
       "        }    #T_4697d24c_31ad_11eb_b459_acde48001122row2_col2 {\n",
       "            color:  red;\n",
       "        }    #T_4697d24c_31ad_11eb_b459_acde48001122row3_col2 {\n",
       "            color:  red;\n",
       "        }    #T_4697d24c_31ad_11eb_b459_acde48001122row4_col2 {\n",
       "            color:  red;\n",
       "        }    #T_4697d24c_31ad_11eb_b459_acde48001122row5_col2 {\n",
       "            color:  red;\n",
       "        }    #T_4697d24c_31ad_11eb_b459_acde48001122row6_col2 {\n",
       "            color:  red;\n",
       "        }</style><table id=\"T_4697d24c_31ad_11eb_b459_acde48001122\" ><thead>    <tr>        <th class=\"col_heading level0 col0\" >Roof Material</th>        <th class=\"col_heading level0 col1\" >Number of Houses</th>        <th class=\"col_heading level0 col2\" >Percentage of Houses</th>    </tr></thead><tbody>\n",
       "                <tr>\n",
       "                                <td id=\"T_4697d24c_31ad_11eb_b459_acde48001122row0_col0\" class=\"data row0 col0\" >Standard (Composite) Shingle</td>\n",
       "                        <td id=\"T_4697d24c_31ad_11eb_b459_acde48001122row0_col1\" class=\"data row0 col1\" >2381</td>\n",
       "                        <td id=\"T_4697d24c_31ad_11eb_b459_acde48001122row0_col2\" class=\"data row0 col2\" >98.673850</td>\n",
       "            </tr>\n",
       "            <tr>\n",
       "                                <td id=\"T_4697d24c_31ad_11eb_b459_acde48001122row1_col0\" class=\"data row1 col0\" >Membrane</td>\n",
       "                        <td id=\"T_4697d24c_31ad_11eb_b459_acde48001122row1_col1\" class=\"data row1 col1\" >1</td>\n",
       "                        <td id=\"T_4697d24c_31ad_11eb_b459_acde48001122row1_col2\" class=\"data row1 col2\" >0.041442</td>\n",
       "            </tr>\n",
       "            <tr>\n",
       "                                <td id=\"T_4697d24c_31ad_11eb_b459_acde48001122row2_col0\" class=\"data row2 col0\" >Metal</td>\n",
       "                        <td id=\"T_4697d24c_31ad_11eb_b459_acde48001122row2_col1\" class=\"data row2 col1\" >1</td>\n",
       "                        <td id=\"T_4697d24c_31ad_11eb_b459_acde48001122row2_col2\" class=\"data row2 col2\" >0.041442</td>\n",
       "            </tr>\n",
       "            <tr>\n",
       "                                <td id=\"T_4697d24c_31ad_11eb_b459_acde48001122row3_col0\" class=\"data row3 col0\" >Roll</td>\n",
       "                        <td id=\"T_4697d24c_31ad_11eb_b459_acde48001122row3_col1\" class=\"data row3 col1\" >1</td>\n",
       "                        <td id=\"T_4697d24c_31ad_11eb_b459_acde48001122row3_col2\" class=\"data row3 col2\" >0.041442</td>\n",
       "            </tr>\n",
       "            <tr>\n",
       "                                <td id=\"T_4697d24c_31ad_11eb_b459_acde48001122row4_col0\" class=\"data row4 col0\" >Gravel & Tar</td>\n",
       "                        <td id=\"T_4697d24c_31ad_11eb_b459_acde48001122row4_col1\" class=\"data row4 col1\" >15</td>\n",
       "                        <td id=\"T_4697d24c_31ad_11eb_b459_acde48001122row4_col2\" class=\"data row4 col2\" >0.621633</td>\n",
       "            </tr>\n",
       "            <tr>\n",
       "                                <td id=\"T_4697d24c_31ad_11eb_b459_acde48001122row5_col0\" class=\"data row5 col0\" >Wood Shakes</td>\n",
       "                        <td id=\"T_4697d24c_31ad_11eb_b459_acde48001122row5_col1\" class=\"data row5 col1\" >7</td>\n",
       "                        <td id=\"T_4697d24c_31ad_11eb_b459_acde48001122row5_col2\" class=\"data row5 col2\" >0.290095</td>\n",
       "            </tr>\n",
       "            <tr>\n",
       "                                <td id=\"T_4697d24c_31ad_11eb_b459_acde48001122row6_col0\" class=\"data row6 col0\" >Wood Shingles</td>\n",
       "                        <td id=\"T_4697d24c_31ad_11eb_b459_acde48001122row6_col1\" class=\"data row6 col1\" >7</td>\n",
       "                        <td id=\"T_4697d24c_31ad_11eb_b459_acde48001122row6_col2\" class=\"data row6 col2\" >0.290095</td>\n",
       "            </tr>\n",
       "    </tbody></table>"
      ],
      "text/plain": [
       "<pandas.io.formats.style.Styler at 0x7f876bcf7d30>"
      ]
     },
     "execution_count": 26,
     "metadata": {},
     "output_type": "execute_result"
    }
   ],
   "source": [
    "roofmatl_count.style.applymap(lambda x: 'color: red' if (x<1.0) else 'color: black', subset=['Percentage of Houses']).hide_index()"
   ]
  },
  {
   "cell_type": "markdown",
   "metadata": {},
   "source": [
    "<ul>\n",
    "<li>Approximately 99% of the houses in our dataset have Standard Composite Shingle on their roof. It is not possible to see a pattern to determine if a different roof materials would add or subtract value from the base price of the house.</li>\n",
    "</ul>"
   ]
  },
  {
   "cell_type": "markdown",
   "metadata": {},
   "source": [
    "We try looking for different patterns by grouping houses by neighborhood and size but it was not clear if the roof material made any difference on the price. However, after looking at the year built variable we were able to understand that in the last 30 year (since 1990) 99% of the houses have standard shingles."
   ]
  },
  {
   "cell_type": "code",
   "execution_count": 95,
   "metadata": {
    "hide_input": true
   },
   "outputs": [],
   "source": [
    "# Evaluating the YearBuilt variable for each roof materical\n",
    "df_roof_temp = dataset.groupby('RoofMatl').agg({\"YearBuilt\":[\"min\",\"max\",\"mean\"]}).reset_index()\n",
    "df_roof_temp.columns = ['Roof Material','Minimum(Year Built)', 'Maximum(Year Built)', 'Average(Year Built)']\n",
    "df_roof_temp['Roof Material'].replace(roof_matl_dict, inplace=True)\n",
    "df_roof_temp['Average(Year Built)'] = df_roof_temp['Average(Year Built)'].astype('int32')"
   ]
  },
  {
   "cell_type": "code",
   "execution_count": 141,
   "metadata": {
    "hide_input": true
   },
   "outputs": [
    {
     "data": {
      "text/html": [
       "<style  type=\"text/css\" >\n",
       "</style><table id=\"T_b60a8a06_31c2_11eb_b459_acde48001122\" ><thead>    <tr>        <th class=\"col_heading level0 col0\" >Roof Material</th>        <th class=\"col_heading level0 col1\" >Minimum(Year Built)</th>        <th class=\"col_heading level0 col2\" >Maximum(Year Built)</th>        <th class=\"col_heading level0 col3\" >Average(Year Built)</th>    </tr></thead><tbody>\n",
       "                <tr>\n",
       "                                <td id=\"T_b60a8a06_31c2_11eb_b459_acde48001122row0_col0\" class=\"data row0 col0\" >Standard (Composite) Shingle</td>\n",
       "                        <td id=\"T_b60a8a06_31c2_11eb_b459_acde48001122row0_col1\" class=\"data row0 col1\" >1872</td>\n",
       "                        <td id=\"T_b60a8a06_31c2_11eb_b459_acde48001122row0_col2\" class=\"data row0 col2\" >2010</td>\n",
       "                        <td id=\"T_b60a8a06_31c2_11eb_b459_acde48001122row0_col3\" class=\"data row0 col3\" >1969</td>\n",
       "            </tr>\n",
       "            <tr>\n",
       "                                <td id=\"T_b60a8a06_31c2_11eb_b459_acde48001122row1_col0\" class=\"data row1 col0\" >Membrane</td>\n",
       "                        <td id=\"T_b60a8a06_31c2_11eb_b459_acde48001122row1_col1\" class=\"data row1 col1\" >1954</td>\n",
       "                        <td id=\"T_b60a8a06_31c2_11eb_b459_acde48001122row1_col2\" class=\"data row1 col2\" >1954</td>\n",
       "                        <td id=\"T_b60a8a06_31c2_11eb_b459_acde48001122row1_col3\" class=\"data row1 col3\" >1954</td>\n",
       "            </tr>\n",
       "            <tr>\n",
       "                                <td id=\"T_b60a8a06_31c2_11eb_b459_acde48001122row2_col0\" class=\"data row2 col0\" >Metal</td>\n",
       "                        <td id=\"T_b60a8a06_31c2_11eb_b459_acde48001122row2_col1\" class=\"data row2 col1\" >1969</td>\n",
       "                        <td id=\"T_b60a8a06_31c2_11eb_b459_acde48001122row2_col2\" class=\"data row2 col2\" >1969</td>\n",
       "                        <td id=\"T_b60a8a06_31c2_11eb_b459_acde48001122row2_col3\" class=\"data row2 col3\" >1969</td>\n",
       "            </tr>\n",
       "            <tr>\n",
       "                                <td id=\"T_b60a8a06_31c2_11eb_b459_acde48001122row3_col0\" class=\"data row3 col0\" >Roll</td>\n",
       "                        <td id=\"T_b60a8a06_31c2_11eb_b459_acde48001122row3_col1\" class=\"data row3 col1\" >1948</td>\n",
       "                        <td id=\"T_b60a8a06_31c2_11eb_b459_acde48001122row3_col2\" class=\"data row3 col2\" >1948</td>\n",
       "                        <td id=\"T_b60a8a06_31c2_11eb_b459_acde48001122row3_col3\" class=\"data row3 col3\" >1948</td>\n",
       "            </tr>\n",
       "            <tr>\n",
       "                                <td id=\"T_b60a8a06_31c2_11eb_b459_acde48001122row4_col0\" class=\"data row4 col0\" >Gravel & Tar</td>\n",
       "                        <td id=\"T_b60a8a06_31c2_11eb_b459_acde48001122row4_col1\" class=\"data row4 col1\" >1940</td>\n",
       "                        <td id=\"T_b60a8a06_31c2_11eb_b459_acde48001122row4_col2\" class=\"data row4 col2\" >2004</td>\n",
       "                        <td id=\"T_b60a8a06_31c2_11eb_b459_acde48001122row4_col3\" class=\"data row4 col3\" >1963</td>\n",
       "            </tr>\n",
       "            <tr>\n",
       "                                <td id=\"T_b60a8a06_31c2_11eb_b459_acde48001122row5_col0\" class=\"data row5 col0\" >Wood Shakes</td>\n",
       "                        <td id=\"T_b60a8a06_31c2_11eb_b459_acde48001122row5_col1\" class=\"data row5 col1\" >1967</td>\n",
       "                        <td id=\"T_b60a8a06_31c2_11eb_b459_acde48001122row5_col2\" class=\"data row5 col2\" >1993</td>\n",
       "                        <td id=\"T_b60a8a06_31c2_11eb_b459_acde48001122row5_col3\" class=\"data row5 col3\" >1979</td>\n",
       "            </tr>\n",
       "            <tr>\n",
       "                                <td id=\"T_b60a8a06_31c2_11eb_b459_acde48001122row6_col0\" class=\"data row6 col0\" >Wood Shingles</td>\n",
       "                        <td id=\"T_b60a8a06_31c2_11eb_b459_acde48001122row6_col1\" class=\"data row6 col1\" >1892</td>\n",
       "                        <td id=\"T_b60a8a06_31c2_11eb_b459_acde48001122row6_col2\" class=\"data row6 col2\" >1994</td>\n",
       "                        <td id=\"T_b60a8a06_31c2_11eb_b459_acde48001122row6_col3\" class=\"data row6 col3\" >1966</td>\n",
       "            </tr>\n",
       "    </tbody></table>"
      ],
      "text/plain": [
       "<pandas.io.formats.style.Styler at 0x7f876ae22a30>"
      ]
     },
     "execution_count": 141,
     "metadata": {},
     "output_type": "execute_result"
    }
   ],
   "source": [
    "df_roof_temp.style.hide_index()"
   ]
  },
  {
   "cell_type": "code",
   "execution_count": 119,
   "metadata": {},
   "outputs": [
    {
     "data": {
      "text/html": [
       "<div>\n",
       "<style scoped>\n",
       "    .dataframe tbody tr th:only-of-type {\n",
       "        vertical-align: middle;\n",
       "    }\n",
       "\n",
       "    .dataframe tbody tr th {\n",
       "        vertical-align: top;\n",
       "    }\n",
       "\n",
       "    .dataframe thead th {\n",
       "        text-align: right;\n",
       "    }\n",
       "</style>\n",
       "<table border=\"1\" class=\"dataframe\">\n",
       "  <thead>\n",
       "    <tr style=\"text-align: right;\">\n",
       "      <th></th>\n",
       "      <th>RoofMatl</th>\n",
       "    </tr>\n",
       "    <tr>\n",
       "      <th>RoofMatl</th>\n",
       "      <th></th>\n",
       "    </tr>\n",
       "  </thead>\n",
       "  <tbody>\n",
       "    <tr>\n",
       "      <th>CompShg</th>\n",
       "      <td>833</td>\n",
       "    </tr>\n",
       "    <tr>\n",
       "      <th>Tar&amp;Grv</th>\n",
       "      <td>1</td>\n",
       "    </tr>\n",
       "    <tr>\n",
       "      <th>WdShake</th>\n",
       "      <td>1</td>\n",
       "    </tr>\n",
       "    <tr>\n",
       "      <th>WdShngl</th>\n",
       "      <td>1</td>\n",
       "    </tr>\n",
       "  </tbody>\n",
       "</table>\n",
       "</div>"
      ],
      "text/plain": [
       "          RoofMatl\n",
       "RoofMatl          \n",
       "CompShg        833\n",
       "Tar&Grv          1\n",
       "WdShake          1\n",
       "WdShngl          1"
      ]
     },
     "execution_count": 119,
     "metadata": {},
     "output_type": "execute_result"
    }
   ],
   "source": [
    "dataset[dataset['YearBuilt']>=1990].groupby('RoofMatl').agg({'RoofMatl':'count'})"
   ]
  },
  {
   "cell_type": "markdown",
   "metadata": {},
   "source": [
    "Summary: it is clear from the data analyzed that the most prominent roof material is standard shingles. Should the house roof material requires replacement we recommend to use standard shingles. We are not able to determine from the data available if choosing other materials would increase or decrease the value of the house."
   ]
  },
  {
   "cell_type": "code",
   "execution_count": 46,
   "metadata": {
    "hide_input": true
   },
   "outputs": [],
   "source": [
    "# Dataset of Model Features + dummified Roof Material features\n",
    "df_roof = pd.concat([dataset_encoded[model_features],pd.get_dummies(dataset['RoofMatl'])], axis=1)\n",
    "df_roof.rename(columns={\"Tar&Grv\":\"TarGrv\"}, inplace=True)"
   ]
  },
  {
   "cell_type": "code",
   "execution_count": null,
   "metadata": {
    "hide_input": true
   },
   "outputs": [],
   "source": [
    "# Model to evaluate roof material\n",
    "mlr_model_roof = LinearRegression()\n",
    "mlr_model_roof.fit(df_roof.drop(columns=['SalePrice']), np.log10(df_roof['SalePrice']))\n",
    "mlr_model_roof.score(df_roof.drop(columns=['SalePrice']), np.log10(df_roof['SalePrice']))"
   ]
  },
  {
   "cell_type": "code",
   "execution_count": 72,
   "metadata": {
    "hide_input": true
   },
   "outputs": [],
   "source": [
    "# Create a list of observations to predict the SalePrice (only house with WdShae and WdShngl)\n",
    "df_roof_test = df_roof[(df_roof['WdShngl']==1) | (df_roof['WdShake']==1)]\n",
    "df_roof_test.reset_index(drop=True, inplace=True)"
   ]
  },
  {
   "cell_type": "code",
   "execution_count": null,
   "metadata": {
    "hide_input": true,
    "scrolled": true
   },
   "outputs": [],
   "source": [
    "# Predict SalePrice (7 WdShake and 7 WdShngl)\n",
    "for i,y_hat in enumerate(mlr_model_roof.predict(df_roof_test.drop(columns='SalePrice'))):\n",
    "    print(10**y_hat,' - ', df_roof_test.loc[i,'SalePrice'],' = ', 10**y_hat - df_roof_test.loc[i,'SalePrice'])"
   ]
  },
  {
   "cell_type": "code",
   "execution_count": 83,
   "metadata": {
    "hide_input": true
   },
   "outputs": [],
   "source": [
    "df_roof_test['WdShake']=0\n",
    "df_roof_test['WdShngl']=0\n",
    "df_roof_test['CompShg']=1"
   ]
  },
  {
   "cell_type": "code",
   "execution_count": null,
   "metadata": {
    "hide_input": true,
    "scrolled": true
   },
   "outputs": [],
   "source": [
    "# Predict SalePrice (7 WdShake and 7 WdShngl)\n",
    "for i,y_hat in enumerate(mlr_model_roof.predict(df_roof_test.drop(columns='SalePrice'))):\n",
    "    print(10**y_hat,' - ', df_roof_test.loc[i,'SalePrice'],' = ', 10**y_hat - df_roof_test.loc[i,'SalePrice'])"
   ]
  },
  {
   "cell_type": "markdown",
   "metadata": {},
   "source": [
    "<br><br>\n",
    "<hr>\n",
    "\n",
    "#### 1.2.2 Fence Quality Evaluation<a class=\"anchor\" id=\"eval-fence\"></a>"
   ]
  },
  {
   "cell_type": "markdown",
   "metadata": {},
   "source": [
    "<p><strong>Fence Quality</strong></p>\n",
    "<table style=\"border-collapse: collapse; width: 44.472%; height: 103px;\" border=\"1\">\n",
    "<thead>\n",
    "<tr style=\"height: 18px;\">\n",
    "<td style=\"width: 8.16763%; border-style: ridge; text-align: center;\"><em><strong>Rating</strong></em></td>\n",
    "<td style=\"width: 8.26072%; height: 18px; border-style: ridge; text-align: center;\"><em><strong>Quality</strong></em></td>\n",
    "<td style=\"width: 38.401%; height: 18px; border-style: ridge; text-align: center;\"><em><strong>Description</strong></em></td>\n",
    "</tr>\n",
    "</thead>\n",
    "<tbody>\n",
    "<tr style=\"height: 18px;\">\n",
    "<td style=\"width: 8.16763%; border-style: ridge; text-align: center;\">4</td>\n",
    "<td style=\"width: 8.26072%; height: 18px; border-style: ridge; text-align: center;\">GdPrv</td>\n",
    "<td style=\"width: 38.401%; height: 18px; border-style: ridge; text-align: left;\">&nbsp; Good Privacy</td>\n",
    "</tr>\n",
    "<tr style=\"height: 18px;\">\n",
    "<td style=\"width: 8.16763%; border-style: ridge; text-align: center;\">3</td>\n",
    "<td style=\"width: 8.26072%; height: 18px; border-style: ridge; text-align: center;\">MnPrv</td>\n",
    "<td style=\"width: 38.401%; height: 18px; border-style: ridge; text-align: left;\">&nbsp; Minimum Privacy</td>\n",
    "</tr>\n",
    "<tr style=\"height: 18px;\">\n",
    "<td style=\"width: 8.16763%; border-style: ridge; text-align: center;\">2</td>\n",
    "<td style=\"width: 8.26072%; height: 18px; border-style: ridge; text-align: center;\">GdWo</td>\n",
    "<td style=\"width: 38.401%; height: 18px; border-style: ridge; text-align: left;\">&nbsp; Good Wood</td>\n",
    "</tr>\n",
    "<tr style=\"height: 13px;\">\n",
    "<td style=\"width: 8.16763%; border-style: ridge; text-align: center;\">1</td>\n",
    "<td style=\"width: 8.26072%; height: 13px; border-style: ridge; text-align: center;\">MnWw</td>\n",
    "<td style=\"width: 38.401%; height: 13px; border-style: ridge; text-align: left;\">&nbsp; Minimum Wood/Wire</td>\n",
    "</tr>\n",
    "<tr style=\"height: 18px;\">\n",
    "<td style=\"width: 8.16763%; border-style: ridge; text-align: center;\">0</td>\n",
    "<td style=\"width: 8.26072%; height: 18px; border-style: ridge; text-align: center;\">NA</td>\n",
    "<td style=\"width: 38.401%; height: 18px; border-style: ridge; text-align: left;\">&nbsp; No Fence</td>\n",
    "</tr>\n",
    "</tbody>\n",
    "</table>"
   ]
  },
  {
   "cell_type": "code",
   "execution_count": 175,
   "metadata": {},
   "outputs": [],
   "source": [
    "roof_fence_dict = ({0:\"No Fence\",1:\"Minimum Wood/Wire\",2:\"Good Wood\",3:\"Minimum Privacy\",4:\"Good Privacy\"})"
   ]
  },
  {
   "cell_type": "code",
   "execution_count": 183,
   "metadata": {},
   "outputs": [
    {
     "data": {
      "text/html": [
       "<style  type=\"text/css\" >\n",
       "</style><table id=\"T_98af5e84_31ca_11eb_b459_acde48001122\" ><thead>    <tr>        <th class=\"col_heading level0 col0\" >Fence Rating</th>        <th class=\"col_heading level0 col1\" >Percentage of Houses</th>    </tr></thead><tbody>\n",
       "                <tr>\n",
       "                                <td id=\"T_98af5e84_31ca_11eb_b459_acde48001122row0_col0\" class=\"data row0 col0\" >No Fence</td>\n",
       "                        <td id=\"T_98af5e84_31ca_11eb_b459_acde48001122row0_col1\" class=\"data row0 col1\" >79.196022</td>\n",
       "            </tr>\n",
       "            <tr>\n",
       "                                <td id=\"T_98af5e84_31ca_11eb_b459_acde48001122row1_col0\" class=\"data row1 col0\" >Minimum Wood/Wire</td>\n",
       "                        <td id=\"T_98af5e84_31ca_11eb_b459_acde48001122row1_col1\" class=\"data row1 col1\" >0.414422</td>\n",
       "            </tr>\n",
       "            <tr>\n",
       "                                <td id=\"T_98af5e84_31ca_11eb_b459_acde48001122row2_col0\" class=\"data row2 col0\" >Good Wood</td>\n",
       "                        <td id=\"T_98af5e84_31ca_11eb_b459_acde48001122row2_col1\" class=\"data row2 col1\" >4.102777</td>\n",
       "            </tr>\n",
       "            <tr>\n",
       "                                <td id=\"T_98af5e84_31ca_11eb_b459_acde48001122row3_col0\" class=\"data row3 col0\" >Minimum Privacy</td>\n",
       "                        <td id=\"T_98af5e84_31ca_11eb_b459_acde48001122row3_col1\" class=\"data row3 col1\" >11.852466</td>\n",
       "            </tr>\n",
       "            <tr>\n",
       "                                <td id=\"T_98af5e84_31ca_11eb_b459_acde48001122row4_col0\" class=\"data row4 col0\" >Good Privacy</td>\n",
       "                        <td id=\"T_98af5e84_31ca_11eb_b459_acde48001122row4_col1\" class=\"data row4 col1\" >4.434314</td>\n",
       "            </tr>\n",
       "    </tbody></table>"
      ],
      "text/plain": [
       "<pandas.io.formats.style.Styler at 0x7f874d3c2580>"
      ]
     },
     "execution_count": 183,
     "metadata": {},
     "output_type": "execute_result"
    }
   ],
   "source": [
    "df_fence = (dataset.groupby('Fence').agg(count=pd.NamedAgg(column=\"Fence\", aggfunc=\"count\"))/dataset.shape[0]*100).reset_index()\n",
    "df_fence.columns=['Fence Rating','Percentage of Houses']\n",
    "df_fence['Fence Rating'].replace(roof_fence_dict, inplace=True)\n",
    "df_fence.style.hide_index()"
   ]
  },
  {
   "cell_type": "markdown",
   "metadata": {},
   "source": [
    "<b>Trend on type of fences in last 20 (since 1990) years</b>"
   ]
  },
  {
   "cell_type": "code",
   "execution_count": 197,
   "metadata": {},
   "outputs": [],
   "source": [
    "df_fence_temp = dataset_encoded.copy()\n",
    "df_fence_temp = pd.concat([df_fence_temp.filter(model_features), dataset['Fence']],axis=1)"
   ]
  },
  {
   "cell_type": "code",
   "execution_count": 201,
   "metadata": {},
   "outputs": [],
   "source": [
    "df_fence_temp.Fence.replace(roof_fence_dict, inplace=True)"
   ]
  },
  {
   "cell_type": "code",
   "execution_count": 205,
   "metadata": {},
   "outputs": [
    {
     "data": {
      "text/html": [
       "<div>\n",
       "<style scoped>\n",
       "    .dataframe tbody tr th:only-of-type {\n",
       "        vertical-align: middle;\n",
       "    }\n",
       "\n",
       "    .dataframe tbody tr th {\n",
       "        vertical-align: top;\n",
       "    }\n",
       "\n",
       "    .dataframe thead th {\n",
       "        text-align: right;\n",
       "    }\n",
       "</style>\n",
       "<table border=\"1\" class=\"dataframe\">\n",
       "  <thead>\n",
       "    <tr style=\"text-align: right;\">\n",
       "      <th></th>\n",
       "      <th>Fence</th>\n",
       "    </tr>\n",
       "    <tr>\n",
       "      <th>Fence</th>\n",
       "      <th></th>\n",
       "    </tr>\n",
       "  </thead>\n",
       "  <tbody>\n",
       "    <tr>\n",
       "      <th>Good Privacy</th>\n",
       "      <td>25</td>\n",
       "    </tr>\n",
       "    <tr>\n",
       "      <th>Good Wood</th>\n",
       "      <td>4</td>\n",
       "    </tr>\n",
       "    <tr>\n",
       "      <th>Minimum Privacy</th>\n",
       "      <td>15</td>\n",
       "    </tr>\n",
       "    <tr>\n",
       "      <th>No Fence</th>\n",
       "      <td>792</td>\n",
       "    </tr>\n",
       "  </tbody>\n",
       "</table>\n",
       "</div>"
      ],
      "text/plain": [
       "                 Fence\n",
       "Fence                 \n",
       "Good Privacy        25\n",
       "Good Wood            4\n",
       "Minimum Privacy     15\n",
       "No Fence           792"
      ]
     },
     "execution_count": 205,
     "metadata": {},
     "output_type": "execute_result"
    }
   ],
   "source": [
    "df_fence_temp[df_fence_temp['YearBuilt']>=1990].groupby('Fence').agg({\"Fence\":\"count\"})"
   ]
  },
  {
   "cell_type": "code",
   "execution_count": 211,
   "metadata": {},
   "outputs": [],
   "source": [
    "df_fence_temp_test = pd.concat([df_fence_temp[df_fence_temp['Fence']!='No Fence'][model_features], pd.get_dummies(df_fence_temp[df_fence_temp['Fence']!='No Fence']['Fence'])], axis = 1)"
   ]
  },
  {
   "cell_type": "code",
   "execution_count": 213,
   "metadata": {},
   "outputs": [
    {
     "data": {
      "text/plain": [
       "0.8652079868146181"
      ]
     },
     "execution_count": 213,
     "metadata": {},
     "output_type": "execute_result"
    }
   ],
   "source": [
    "# Model to evaluate roof material\n",
    "mlr_model_fence = LinearRegression()\n",
    "mlr_model_fence.fit(df_fence_temp_test.drop(columns=['SalePrice']), np.log10(df_fence_temp_test['SalePrice']))\n",
    "mlr_model_fence.score(df_fence_temp_test.drop(columns=['SalePrice']), np.log10(df_fence_temp_test['SalePrice']))"
   ]
  },
  {
   "cell_type": "code",
   "execution_count": 240,
   "metadata": {},
   "outputs": [
    {
     "name": "stdout",
     "output_type": "stream",
     "text": [
      "[ 1.000e-04  3.550e-02  1.500e-03  4.276e-01  2.610e-02  1.286e-01\n",
      " -0.000e+00  1.000e-02  7.000e-04  9.000e-04 -1.170e-02]\n",
      "Index(['TotalBsmtSF', 'OverallQual', 'YearBuilt', 'log10_GrLivArea',\n",
      "       'OverallCond', 'log10_LotArea', 'BsmtUnfSF', 'Good Privacy',\n",
      "       'Good Wood', 'Minimum Privacy', 'Minimum Wood/Wire'],\n",
      "      dtype='object')\n"
     ]
    }
   ],
   "source": [
    "print(np.round(mlr_model_fence.coef_,4))\n",
    "print(df_fence_temp_test.drop(columns=['SalePrice']).columns)"
   ]
  },
  {
   "cell_type": "code",
   "execution_count": 222,
   "metadata": {},
   "outputs": [],
   "source": [
    "df_fence_temp_test = pd.concat([df_fence_temp_test[df_fence_temp_test['Minimum Wood/Wire']==1].head(5),\n",
    "           df_fence_temp_test[df_fence_temp_test['Good Wood']==1].head(5),\n",
    "           df_fence_temp_test[df_fence_temp_test['Good Privacy']==1].head(5),\n",
    "           df_fence_temp_test[df_fence_temp_test['Minimum Privacy']==1].head(5)],\n",
    "          axis=0)\n",
    "df_fence_temp_test.reset_index(inplace=True)"
   ]
  },
  {
   "cell_type": "code",
   "execution_count": 229,
   "metadata": {},
   "outputs": [
    {
     "data": {
      "text/html": [
       "<div>\n",
       "<style scoped>\n",
       "    .dataframe tbody tr th:only-of-type {\n",
       "        vertical-align: middle;\n",
       "    }\n",
       "\n",
       "    .dataframe tbody tr th {\n",
       "        vertical-align: top;\n",
       "    }\n",
       "\n",
       "    .dataframe thead th {\n",
       "        text-align: right;\n",
       "    }\n",
       "</style>\n",
       "<table border=\"1\" class=\"dataframe\">\n",
       "  <thead>\n",
       "    <tr style=\"text-align: right;\">\n",
       "      <th></th>\n",
       "      <th>SalePrice</th>\n",
       "      <th>TotalBsmtSF</th>\n",
       "      <th>OverallQual</th>\n",
       "      <th>YearBuilt</th>\n",
       "      <th>log10_GrLivArea</th>\n",
       "      <th>OverallCond</th>\n",
       "      <th>log10_LotArea</th>\n",
       "      <th>BsmtUnfSF</th>\n",
       "      <th>Good Privacy</th>\n",
       "      <th>Good Wood</th>\n",
       "      <th>Minimum Privacy</th>\n",
       "      <th>Minimum Wood/Wire</th>\n",
       "    </tr>\n",
       "  </thead>\n",
       "  <tbody>\n",
       "    <tr>\n",
       "      <th>0</th>\n",
       "      <td>141000</td>\n",
       "      <td>1092.0</td>\n",
       "      <td>5</td>\n",
       "      <td>1957</td>\n",
       "      <td>3.038223</td>\n",
       "      <td>5</td>\n",
       "      <td>4.171726</td>\n",
       "      <td>197.0</td>\n",
       "      <td>0</td>\n",
       "      <td>0</td>\n",
       "      <td>0</td>\n",
       "      <td>1</td>\n",
       "    </tr>\n",
       "    <tr>\n",
       "      <th>1</th>\n",
       "      <td>123000</td>\n",
       "      <td>864.0</td>\n",
       "      <td>5</td>\n",
       "      <td>1967</td>\n",
       "      <td>2.954243</td>\n",
       "      <td>5</td>\n",
       "      <td>3.894205</td>\n",
       "      <td>95.0</td>\n",
       "      <td>0</td>\n",
       "      <td>0</td>\n",
       "      <td>0</td>\n",
       "      <td>1</td>\n",
       "    </tr>\n",
       "    <tr>\n",
       "      <th>2</th>\n",
       "      <td>110000</td>\n",
       "      <td>720.0</td>\n",
       "      <td>5</td>\n",
       "      <td>1947</td>\n",
       "      <td>3.108565</td>\n",
       "      <td>7</td>\n",
       "      <td>3.544068</td>\n",
       "      <td>408.0</td>\n",
       "      <td>0</td>\n",
       "      <td>0</td>\n",
       "      <td>0</td>\n",
       "      <td>1</td>\n",
       "    </tr>\n",
       "    <tr>\n",
       "      <th>3</th>\n",
       "      <td>145000</td>\n",
       "      <td>588.0</td>\n",
       "      <td>6</td>\n",
       "      <td>1958</td>\n",
       "      <td>3.056142</td>\n",
       "      <td>8</td>\n",
       "      <td>4.020444</td>\n",
       "      <td>81.0</td>\n",
       "      <td>0</td>\n",
       "      <td>0</td>\n",
       "      <td>0</td>\n",
       "      <td>1</td>\n",
       "    </tr>\n",
       "    <tr>\n",
       "      <th>4</th>\n",
       "      <td>127500</td>\n",
       "      <td>854.0</td>\n",
       "      <td>6</td>\n",
       "      <td>1954</td>\n",
       "      <td>3.106531</td>\n",
       "      <td>5</td>\n",
       "      <td>3.857332</td>\n",
       "      <td>181.0</td>\n",
       "      <td>0</td>\n",
       "      <td>0</td>\n",
       "      <td>0</td>\n",
       "      <td>1</td>\n",
       "    </tr>\n",
       "    <tr>\n",
       "      <th>5</th>\n",
       "      <td>136000</td>\n",
       "      <td>624.0</td>\n",
       "      <td>5</td>\n",
       "      <td>1991</td>\n",
       "      <td>3.105169</td>\n",
       "      <td>5</td>\n",
       "      <td>4.020154</td>\n",
       "      <td>166.0</td>\n",
       "      <td>0</td>\n",
       "      <td>1</td>\n",
       "      <td>0</td>\n",
       "      <td>0</td>\n",
       "    </tr>\n",
       "    <tr>\n",
       "      <th>6</th>\n",
       "      <td>72000</td>\n",
       "      <td>432.0</td>\n",
       "      <td>4</td>\n",
       "      <td>1925</td>\n",
       "      <td>2.827369</td>\n",
       "      <td>4</td>\n",
       "      <td>3.931153</td>\n",
       "      <td>432.0</td>\n",
       "      <td>0</td>\n",
       "      <td>1</td>\n",
       "      <td>0</td>\n",
       "      <td>0</td>\n",
       "    </tr>\n",
       "    <tr>\n",
       "      <th>7</th>\n",
       "      <td>153000</td>\n",
       "      <td>450.0</td>\n",
       "      <td>6</td>\n",
       "      <td>1978</td>\n",
       "      <td>3.014521</td>\n",
       "      <td>8</td>\n",
       "      <td>3.886660</td>\n",
       "      <td>0.0</td>\n",
       "      <td>0</td>\n",
       "      <td>1</td>\n",
       "      <td>0</td>\n",
       "      <td>0</td>\n",
       "    </tr>\n",
       "    <tr>\n",
       "      <th>8</th>\n",
       "      <td>167000</td>\n",
       "      <td>1277.0</td>\n",
       "      <td>7</td>\n",
       "      <td>1970</td>\n",
       "      <td>3.106191</td>\n",
       "      <td>5</td>\n",
       "      <td>4.026452</td>\n",
       "      <td>499.0</td>\n",
       "      <td>0</td>\n",
       "      <td>1</td>\n",
       "      <td>0</td>\n",
       "      <td>0</td>\n",
       "    </tr>\n",
       "    <tr>\n",
       "      <th>9</th>\n",
       "      <td>138500</td>\n",
       "      <td>1052.0</td>\n",
       "      <td>5</td>\n",
       "      <td>1968</td>\n",
       "      <td>3.022016</td>\n",
       "      <td>5</td>\n",
       "      <td>3.924279</td>\n",
       "      <td>36.0</td>\n",
       "      <td>0</td>\n",
       "      <td>1</td>\n",
       "      <td>0</td>\n",
       "      <td>0</td>\n",
       "    </tr>\n",
       "    <tr>\n",
       "      <th>10</th>\n",
       "      <td>140000</td>\n",
       "      <td>1001.0</td>\n",
       "      <td>5</td>\n",
       "      <td>1972</td>\n",
       "      <td>3.215109</td>\n",
       "      <td>4</td>\n",
       "      <td>4.031772</td>\n",
       "      <td>0.0</td>\n",
       "      <td>1</td>\n",
       "      <td>0</td>\n",
       "      <td>0</td>\n",
       "      <td>0</td>\n",
       "    </tr>\n",
       "    <tr>\n",
       "      <th>11</th>\n",
       "      <td>235000</td>\n",
       "      <td>975.0</td>\n",
       "      <td>7</td>\n",
       "      <td>1991</td>\n",
       "      <td>3.244277</td>\n",
       "      <td>8</td>\n",
       "      <td>4.077332</td>\n",
       "      <td>158.0</td>\n",
       "      <td>1</td>\n",
       "      <td>0</td>\n",
       "      <td>0</td>\n",
       "      <td>0</td>\n",
       "    </tr>\n",
       "    <tr>\n",
       "      <th>12</th>\n",
       "      <td>160500</td>\n",
       "      <td>960.0</td>\n",
       "      <td>6</td>\n",
       "      <td>1978</td>\n",
       "      <td>3.017033</td>\n",
       "      <td>6</td>\n",
       "      <td>3.855882</td>\n",
       "      <td>166.0</td>\n",
       "      <td>1</td>\n",
       "      <td>0</td>\n",
       "      <td>0</td>\n",
       "      <td>0</td>\n",
       "    </tr>\n",
       "    <tr>\n",
       "      <th>13</th>\n",
       "      <td>468000</td>\n",
       "      <td>2458.0</td>\n",
       "      <td>9</td>\n",
       "      <td>2005</td>\n",
       "      <td>3.396199</td>\n",
       "      <td>5</td>\n",
       "      <td>4.046417</td>\n",
       "      <td>300.0</td>\n",
       "      <td>1</td>\n",
       "      <td>0</td>\n",
       "      <td>0</td>\n",
       "      <td>0</td>\n",
       "    </tr>\n",
       "    <tr>\n",
       "      <th>14</th>\n",
       "      <td>257000</td>\n",
       "      <td>585.0</td>\n",
       "      <td>6</td>\n",
       "      <td>1958</td>\n",
       "      <td>3.357744</td>\n",
       "      <td>8</td>\n",
       "      <td>4.300117</td>\n",
       "      <td>585.0</td>\n",
       "      <td>1</td>\n",
       "      <td>0</td>\n",
       "      <td>0</td>\n",
       "      <td>0</td>\n",
       "    </tr>\n",
       "    <tr>\n",
       "      <th>15</th>\n",
       "      <td>186000</td>\n",
       "      <td>1312.0</td>\n",
       "      <td>7</td>\n",
       "      <td>1958</td>\n",
       "      <td>3.117934</td>\n",
       "      <td>7</td>\n",
       "      <td>4.055187</td>\n",
       "      <td>675.0</td>\n",
       "      <td>0</td>\n",
       "      <td>0</td>\n",
       "      <td>1</td>\n",
       "      <td>0</td>\n",
       "    </tr>\n",
       "    <tr>\n",
       "      <th>16</th>\n",
       "      <td>109500</td>\n",
       "      <td>936.0</td>\n",
       "      <td>5</td>\n",
       "      <td>1920</td>\n",
       "      <td>2.971276</td>\n",
       "      <td>7</td>\n",
       "      <td>3.651762</td>\n",
       "      <td>357.0</td>\n",
       "      <td>0</td>\n",
       "      <td>0</td>\n",
       "      <td>1</td>\n",
       "      <td>0</td>\n",
       "    </tr>\n",
       "    <tr>\n",
       "      <th>17</th>\n",
       "      <td>110000</td>\n",
       "      <td>440.0</td>\n",
       "      <td>5</td>\n",
       "      <td>1910</td>\n",
       "      <td>3.089905</td>\n",
       "      <td>6</td>\n",
       "      <td>4.018700</td>\n",
       "      <td>440.0</td>\n",
       "      <td>0</td>\n",
       "      <td>0</td>\n",
       "      <td>1</td>\n",
       "      <td>0</td>\n",
       "    </tr>\n",
       "    <tr>\n",
       "      <th>18</th>\n",
       "      <td>151500</td>\n",
       "      <td>1248.0</td>\n",
       "      <td>5</td>\n",
       "      <td>1960</td>\n",
       "      <td>3.096215</td>\n",
       "      <td>7</td>\n",
       "      <td>4.033424</td>\n",
       "      <td>616.0</td>\n",
       "      <td>0</td>\n",
       "      <td>0</td>\n",
       "      <td>1</td>\n",
       "      <td>0</td>\n",
       "    </tr>\n",
       "    <tr>\n",
       "      <th>19</th>\n",
       "      <td>128200</td>\n",
       "      <td>894.0</td>\n",
       "      <td>5</td>\n",
       "      <td>1976</td>\n",
       "      <td>2.951338</td>\n",
       "      <td>6</td>\n",
       "      <td>4.027350</td>\n",
       "      <td>0.0</td>\n",
       "      <td>0</td>\n",
       "      <td>0</td>\n",
       "      <td>1</td>\n",
       "      <td>0</td>\n",
       "    </tr>\n",
       "  </tbody>\n",
       "</table>\n",
       "</div>"
      ],
      "text/plain": [
       "    SalePrice  TotalBsmtSF  OverallQual  YearBuilt  log10_GrLivArea  \\\n",
       "0      141000       1092.0            5       1957         3.038223   \n",
       "1      123000        864.0            5       1967         2.954243   \n",
       "2      110000        720.0            5       1947         3.108565   \n",
       "3      145000        588.0            6       1958         3.056142   \n",
       "4      127500        854.0            6       1954         3.106531   \n",
       "5      136000        624.0            5       1991         3.105169   \n",
       "6       72000        432.0            4       1925         2.827369   \n",
       "7      153000        450.0            6       1978         3.014521   \n",
       "8      167000       1277.0            7       1970         3.106191   \n",
       "9      138500       1052.0            5       1968         3.022016   \n",
       "10     140000       1001.0            5       1972         3.215109   \n",
       "11     235000        975.0            7       1991         3.244277   \n",
       "12     160500        960.0            6       1978         3.017033   \n",
       "13     468000       2458.0            9       2005         3.396199   \n",
       "14     257000        585.0            6       1958         3.357744   \n",
       "15     186000       1312.0            7       1958         3.117934   \n",
       "16     109500        936.0            5       1920         2.971276   \n",
       "17     110000        440.0            5       1910         3.089905   \n",
       "18     151500       1248.0            5       1960         3.096215   \n",
       "19     128200        894.0            5       1976         2.951338   \n",
       "\n",
       "    OverallCond  log10_LotArea  BsmtUnfSF  Good Privacy  Good Wood  \\\n",
       "0             5       4.171726      197.0             0          0   \n",
       "1             5       3.894205       95.0             0          0   \n",
       "2             7       3.544068      408.0             0          0   \n",
       "3             8       4.020444       81.0             0          0   \n",
       "4             5       3.857332      181.0             0          0   \n",
       "5             5       4.020154      166.0             0          1   \n",
       "6             4       3.931153      432.0             0          1   \n",
       "7             8       3.886660        0.0             0          1   \n",
       "8             5       4.026452      499.0             0          1   \n",
       "9             5       3.924279       36.0             0          1   \n",
       "10            4       4.031772        0.0             1          0   \n",
       "11            8       4.077332      158.0             1          0   \n",
       "12            6       3.855882      166.0             1          0   \n",
       "13            5       4.046417      300.0             1          0   \n",
       "14            8       4.300117      585.0             1          0   \n",
       "15            7       4.055187      675.0             0          0   \n",
       "16            7       3.651762      357.0             0          0   \n",
       "17            6       4.018700      440.0             0          0   \n",
       "18            7       4.033424      616.0             0          0   \n",
       "19            6       4.027350        0.0             0          0   \n",
       "\n",
       "    Minimum Privacy  Minimum Wood/Wire  \n",
       "0                 0                  1  \n",
       "1                 0                  1  \n",
       "2                 0                  1  \n",
       "3                 0                  1  \n",
       "4                 0                  1  \n",
       "5                 0                  0  \n",
       "6                 0                  0  \n",
       "7                 0                  0  \n",
       "8                 0                  0  \n",
       "9                 0                  0  \n",
       "10                0                  0  \n",
       "11                0                  0  \n",
       "12                0                  0  \n",
       "13                0                  0  \n",
       "14                0                  0  \n",
       "15                1                  0  \n",
       "16                1                  0  \n",
       "17                1                  0  \n",
       "18                1                  0  \n",
       "19                1                  0  "
      ]
     },
     "execution_count": 229,
     "metadata": {},
     "output_type": "execute_result"
    }
   ],
   "source": [
    "df_fence_temp_test"
   ]
  },
  {
   "cell_type": "code",
   "execution_count": 233,
   "metadata": {},
   "outputs": [
    {
     "name": "stdout",
     "output_type": "stream",
     "text": [
      "132486.19034309805  -  141000  =  -8513.809656901954\n",
      "112295.53448843646  -  123000  =  -10704.46551156354\n",
      "117293.73500828457  -  110000  =  7293.735008284566\n",
      "154103.40489671077  -  145000  =  9103.404896710766\n",
      "132607.45213476956  -  127500  =  5107.452134769555\n",
      "139400.18191672783  -  136000  =  3400.18191672783\n",
      "67098.48580349308  -  72000  =  -4901.51419650692\n",
      "149418.30160677287  -  153000  =  -3581.698393227125\n",
      "168696.9532606513  -  167000  =  1696.9532606512948\n",
      "126707.93207161517  -  138500  =  -11792.06792838483\n",
      "150036.57065003843  -  140000  =  10036.570650038426\n",
      "245661.4769539346  -  235000  =  10661.476953934587\n",
      "143157.65072578765  -  160500  =  -17342.34927421235\n",
      "384087.439403482  -  468000  =  -83912.56059651799\n",
      "215308.41157107372  -  257000  =  -41691.588428926276\n",
      "184565.48153812185  -  186000  =  -1434.5184618781495\n",
      "100913.61852029126  -  109500  =  -8586.38147970874\n",
      "103701.79157595118  -  110000  =  -6298.208424048818\n",
      "152364.18100151373  -  151500  =  864.1810015137307\n",
      "129441.13500520073  -  128200  =  1241.1350052007328\n"
     ]
    }
   ],
   "source": [
    "df_fence_temp_test['Minimum Wood/Wire']=1\n",
    "df_fence_temp_test['Minimum Privacy']=0\n",
    "df_fence_temp_test['Good Wood']=0\n",
    "df_fence_temp_test['Good Privacy']=0\n",
    "for i, coef_ in enumerate(mlr_model_fence.predict(df_fence_temp_test.drop(columns=['SalePrice']))):\n",
    "    print(10**coef_,\" - \",df_fence_temp_test.loc[i,'SalePrice'],\" = \", 10**coef_ - df_fence_temp_test.loc[i,'SalePrice'])"
   ]
  },
  {
   "cell_type": "code",
   "execution_count": 234,
   "metadata": {},
   "outputs": [
    {
     "name": "stdout",
     "output_type": "stream",
     "text": [
      "136380.53414841022  -  141000  =  -4619.465851589775\n",
      "115596.38733933924  -  123000  =  -7403.612660660758\n",
      "120741.50665262363  -  110000  =  10741.506652623633\n",
      "158633.1724044251  -  145000  =  13633.172404425102\n",
      "136505.36035012323  -  127500  =  9005.360350123228\n",
      "143497.75792446817  -  136000  =  7497.757924468169\n",
      "69070.80134715814  -  72000  =  -2929.198652841864\n",
      "153810.35360672622  -  153000  =  810.3536067262175\n",
      "173655.6884556503  -  167000  =  6655.688455650292\n",
      "130432.42780259773  -  138500  =  -8067.5721974022745\n",
      "154446.7962589726  -  140000  =  14446.796258972608\n",
      "252882.53334103327  -  235000  =  17882.533341033268\n",
      "147365.67504019543  -  160500  =  -13134.324959804566\n",
      "395377.43526241335  -  468000  =  -72622.56473758665\n",
      "221637.2597073361  -  257000  =  -35362.74029266389\n",
      "189990.66161040773  -  186000  =  3990.6616104077257\n",
      "103879.90749077495  -  109500  =  -5620.0925092250545\n",
      "106750.03704649972  -  110000  =  -3249.962953500275\n",
      "156842.82517490338  -  151500  =  5342.825174903381\n",
      "133245.97142592238  -  128200  =  5045.971425922384\n"
     ]
    }
   ],
   "source": [
    "df_fence_temp_test['Minimum Wood/Wire']=0\n",
    "df_fence_temp_test['Minimum Privacy']=1\n",
    "df_fence_temp_test['Good Wood']=0\n",
    "df_fence_temp_test['Good Privacy']=0\n",
    "for i, coef_ in enumerate(mlr_model_fence.predict(df_fence_temp_test.drop(columns=['SalePrice']))):\n",
    "    print(10**coef_,\" - \",df_fence_temp_test.loc[i,'SalePrice'],\" = \", 10**coef_ - df_fence_temp_test.loc[i,'SalePrice'])"
   ]
  },
  {
   "cell_type": "markdown",
   "metadata": {},
   "source": [
    "<br><br><br><br>\n",
    "<hr>\n",
    "<hr>"
   ]
  },
  {
   "cell_type": "code",
   "execution_count": 148,
   "metadata": {},
   "outputs": [],
   "source": [
    "# Dataset of Model Features + dummified Fence feature\n",
    "df_fence = pd.concat([dataset_encoded[model_features],pd.get_dummies(dataset['Fence'])], axis=1)\n"
   ]
  },
  {
   "cell_type": "code",
   "execution_count": 149,
   "metadata": {},
   "outputs": [
    {
     "data": {
      "text/plain": [
       "0.9108802494011978"
      ]
     },
     "execution_count": 149,
     "metadata": {},
     "output_type": "execute_result"
    }
   ],
   "source": [
    "# Model to evaluate roof material\n",
    "mlr_model_fence = LinearRegression()\n",
    "mlr_model_fence.fit(df_fence.drop(columns=['SalePrice']), np.log10(df_fence['SalePrice']))\n",
    "mlr_model_fence.score(df_fence.drop(columns=['SalePrice']), np.log10(df_fence['SalePrice']))"
   ]
  },
  {
   "cell_type": "code",
   "execution_count": 152,
   "metadata": {},
   "outputs": [],
   "source": [
    "# Select 5 houses with no fence to test\n",
    "df_fence_test = df_fence[df_fence[0]==1].head(5)"
   ]
  },
  {
   "cell_type": "code",
   "execution_count": 161,
   "metadata": {},
   "outputs": [
    {
     "name": "stdout",
     "output_type": "stream",
     "text": [
      "113645.8067445226  -  126000  =  -12354.193255477396\n",
      "129578.91342986427  -  139500  =  -9921.086570135725\n",
      "129653.89508722632  -  124900  =  4753.895087226323\n",
      "92705.56503288145  -  114000  =  -21294.43496711855\n",
      "241319.7558071002  -  227000  =  14319.755807100213\n"
     ]
    }
   ],
   "source": [
    "for i, coef_ in enumerate(mlr_model_fence.predict(df_fence_test.drop(columns=['SalePrice']))):\n",
    "    print(10**coef_,\" - \",df_fence_test.loc[i,'SalePrice'],\" = \", 10**coef_ - df_fence_test.loc[i,'SalePrice'])"
   ]
  },
  {
   "cell_type": "code",
   "execution_count": 162,
   "metadata": {},
   "outputs": [
    {
     "name": "stdout",
     "output_type": "stream",
     "text": [
      "109362.68676308492  -  126000  =  -16637.313236915084\n",
      "124695.30136195851  -  139500  =  -14804.69863804149\n",
      "124767.45708632673  -  124900  =  -132.54291367327096\n",
      "89211.64766490128  -  114000  =  -24788.352335098723\n",
      "232224.81867196588  -  227000  =  5224.818671965884\n"
     ]
    }
   ],
   "source": [
    "df_fence_test[0]=0\n",
    "df_fence_test[1]=1\n",
    "for i, coef_ in enumerate(mlr_model_fence.predict(df_fence_test.drop(columns=['SalePrice']))):\n",
    "    print(10**coef_,\" - \",df_fence_test.loc[i,'SalePrice'],\" = \", 10**coef_ - df_fence_test.loc[i,'SalePrice'])"
   ]
  },
  {
   "cell_type": "code",
   "execution_count": 163,
   "metadata": {},
   "outputs": [
    {
     "name": "stdout",
     "output_type": "stream",
     "text": [
      "112589.02973854999  -  126000  =  -13410.970261450013\n",
      "128373.97661702233  -  139500  =  -11126.02338297767\n",
      "128448.26103008086  -  124900  =  3548.261030080859\n",
      "91843.5085060385  -  114000  =  -22156.491493961497\n",
      "239075.75599462  -  227000  =  12075.755994620005\n"
     ]
    }
   ],
   "source": [
    "df_fence_test[1]=0\n",
    "df_fence_test[2]=1\n",
    "for i, coef_ in enumerate(mlr_model_fence.predict(df_fence_test.drop(columns=['SalePrice']))):\n",
    "    print(10**coef_,\" - \",df_fence_test.loc[i,'SalePrice'],\" = \", 10**coef_ - df_fence_test.loc[i,'SalePrice'])"
   ]
  },
  {
   "cell_type": "code",
   "execution_count": 164,
   "metadata": {},
   "outputs": [
    {
     "name": "stdout",
     "output_type": "stream",
     "text": [
      "112465.2535843532  -  126000  =  -13534.746415646805\n",
      "128232.84708458473  -  139500  =  -11267.152915415267\n",
      "128307.04983214721  -  124900  =  3407.0498321472114\n",
      "91742.53919937323  -  114000  =  -22257.460800626766\n",
      "238812.92508021012  -  227000  =  11812.925080210116\n"
     ]
    }
   ],
   "source": [
    "df_fence_test[2]=0\n",
    "df_fence_test[3]=1\n",
    "for i, coef_ in enumerate(mlr_model_fence.predict(df_fence_test.drop(columns=['SalePrice']))):\n",
    "    print(10**coef_,\" - \",df_fence_test.loc[i,'SalePrice'],\" = \", 10**coef_ - df_fence_test.loc[i,'SalePrice'])"
   ]
  },
  {
   "cell_type": "code",
   "execution_count": 165,
   "metadata": {},
   "outputs": [
    {
     "name": "stdout",
     "output_type": "stream",
     "text": [
      "113389.20013058938  -  126000  =  -12610.79986941062\n",
      "129286.33064863476  -  139500  =  -10213.669351365243\n",
      "129361.14300112094  -  124900  =  4461.143001120945\n",
      "92496.24044962312  -  114000  =  -21503.759550376883\n",
      "240774.86772731334  -  227000  =  13774.867727313336\n"
     ]
    }
   ],
   "source": [
    "df_fence_test[3]=0\n",
    "df_fence_test[4]=1\n",
    "for i, coef_ in enumerate(mlr_model_fence.predict(df_fence_test.drop(columns=['SalePrice']))):\n",
    "    print(10**coef_,\" - \",df_fence_test.loc[i,'SalePrice'],\" = \", 10**coef_ - df_fence_test.loc[i,'SalePrice'])"
   ]
  },
  {
   "cell_type": "markdown",
   "metadata": {},
   "source": [
    "#### 1.2.3 Overall Quality Evaluation<a class=\"anchor\" id=\"eval-overall\"></a>"
   ]
  },
  {
   "cell_type": "code",
   "execution_count": null,
   "metadata": {},
   "outputs": [],
   "source": [
    "dataset['OverallQual'].value_counts()"
   ]
  }
 ],
 "metadata": {
  "hide_input": false,
  "kernelspec": {
   "display_name": "Python 3",
   "language": "python",
   "name": "python3"
  },
  "language_info": {
   "codemirror_mode": {
    "name": "ipython",
    "version": 3
   },
   "file_extension": ".py",
   "mimetype": "text/x-python",
   "name": "python",
   "nbconvert_exporter": "python",
   "pygments_lexer": "ipython3",
   "version": "3.8.3"
  }
 },
 "nbformat": 4,
 "nbformat_minor": 4
}
